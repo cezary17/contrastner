{
 "cells": [
  {
   "cell_type": "code",
   "execution_count": 1,
   "id": "7bdcd5ef-4a9b-406b-aad1-63ae37ffa140",
   "metadata": {},
   "outputs": [],
   "source": [
    "import os\n",
    "import pandas as pd\n",
    "import numpy as np\n",
    "import matplotlib.pyplot as plt\n",
    "import seaborn as sns\n",
    "from pathlib import Path\n",
    "\n",
    "sns.set_theme(style=\"whitegrid\", palette=\"Set2\")\n",
    "sns.set_context(\"paper\")\n",
    "plt.rcParams['savefig.dpi'] = 300\n",
    "\n",
    "CONLL_CSS_PATH = Path(\"data\", \"wandb_conll_baseline_sweep.csv\")\n",
    "WNUT_CSS_PATH = Path(\"data\", \"wandb_wnut_baseline_sweep.csv\")\n",
    "WNUT_CSS_BS64_PATH = Path(\"data\", \"wandb_wnut_bs64_baseline_sweep.csv\")\n",
    "MIT_CSS_PATH = Path(\"data\", \"wandb_mit_baseline_sweep.csv\")"
   ]
  },
  {
   "cell_type": "code",
   "execution_count": 25,
   "id": "879cd894-30e9-404f-9ca4-37a018462057",
   "metadata": {},
   "outputs": [
    {
     "data": {
      "text/plain": [
       "[False,\n",
       " False,\n",
       " False,\n",
       " False,\n",
       " False,\n",
       " False,\n",
       " False,\n",
       " False,\n",
       " False,\n",
       " False,\n",
       " False,\n",
       " False,\n",
       " False,\n",
       " False,\n",
       " False,\n",
       " False,\n",
       " False,\n",
       " False,\n",
       " False,\n",
       " False,\n",
       " False,\n",
       " False,\n",
       " False,\n",
       " False,\n",
       " False,\n",
       " False,\n",
       " False,\n",
       " False,\n",
       " False,\n",
       " False,\n",
       " False,\n",
       " False,\n",
       " False,\n",
       " False,\n",
       " False,\n",
       " False,\n",
       " False,\n",
       " False,\n",
       " False,\n",
       " False,\n",
       " False,\n",
       " True,\n",
       " False,\n",
       " False,\n",
       " False,\n",
       " False,\n",
       " False,\n",
       " True,\n",
       " False,\n",
       " True,\n",
       " False,\n",
       " True,\n",
       " False,\n",
       " False,\n",
       " False,\n",
       " True,\n",
       " False,\n",
       " False,\n",
       " False,\n",
       " False,\n",
       " False,\n",
       " True,\n",
       " False,\n",
       " True,\n",
       " False,\n",
       " True,\n",
       " False,\n",
       " False,\n",
       " False,\n",
       " False,\n",
       " False,\n",
       " False,\n",
       " False,\n",
       " True,\n",
       " False,\n",
       " False,\n",
       " False,\n",
       " False,\n",
       " False,\n",
       " False,\n",
       " False,\n",
       " False,\n",
       " False,\n",
       " False,\n",
       " False,\n",
       " False,\n",
       " False,\n",
       " False,\n",
       " False,\n",
       " False,\n",
       " False,\n",
       " False,\n",
       " False,\n",
       " False,\n",
       " False,\n",
       " False,\n",
       " False,\n",
       " False,\n",
       " False,\n",
       " False,\n",
       " False,\n",
       " False,\n",
       " False,\n",
       " False,\n",
       " False,\n",
       " False,\n",
       " False,\n",
       " False,\n",
       " False,\n",
       " False,\n",
       " False,\n",
       " False,\n",
       " False,\n",
       " False,\n",
       " False,\n",
       " False,\n",
       " False,\n",
       " False,\n",
       " False,\n",
       " False]"
      ]
     },
     "execution_count": 25,
     "metadata": {},
     "output_type": "execute_result"
    }
   ],
   "source": [
    "conll_df = pd.read_csv(CONLL_CSS_PATH)\n",
    "conll_df[\"corpus\"] = \"CONLL_2003\"\n",
    "\n",
    "wnut_df = pd.read_csv(WNUT_CSS_PATH)\n",
    "wnut_df[\"corpus\"] = \"WNUT_2017\"\n",
    "\n",
    "wnut_bs64_df = pd.read_csv(WNUT_CSS_BS64_PATH)\n",
    "wnut_bs64_df[\"corpus\"] = \"WNUT_2017\"\n",
    "\n",
    "mit_df = pd.read_csv(MIT_CSS_PATH)\n",
    "mit_df[\"corpus\"] = \"MIT_ENGLISH_RESTAURANT\"\n",
    "\n",
    "frames = [conll_df, wnut_df, mit_df]\n",
    "full_df = pd.concat(frames).reset_index(drop=True)\n",
    "\n",
    "full_df[\"test_score\"].isna().to_list()"
   ]
  },
  {
   "cell_type": "code",
   "execution_count": 3,
   "id": "5568b09c-f333-4265-b189-aebd4db7f1b0",
   "metadata": {},
   "outputs": [
    {
     "data": {
      "image/png": "[encoded data removed]",
      "text/plain": [
       "<Figure size 1200x600 with 1 Axes>"
      ]
     },
     "metadata": {},
     "output_type": "display_data"
    }
   ],
   "source": [
    "plt.figure(figsize=(12, 6))\n",
    "\n",
    "sns.boxplot(x='corpus', y='test_score', data=full_df, hue='run_type')\n",
    "\n",
    "plt.title('Test Scores by Run Type')\n",
    "plt.xlabel('Corpus')\n",
    "plt.ylabel('Test Score')\n",
    "\n",
    "save_path = Path(os.getcwd(), \"output_figs\", \"baseline_contrastive_experiment_fig.png\")\n",
    "plt.savefig(save_path, bbox_inches='tight')\n",
    "plt.show()"
   ]
  },
  {
   "cell_type": "code",
   "execution_count": 4,
   "id": "29a9f793-0e48-4a1b-9019-d6e4f03e645c",
   "metadata": {},
   "outputs": [
    {
     "data": {
      "text/plain": [
       "np.int64(9)"
      ]
     },
     "execution_count": 4,
     "metadata": {},
     "output_type": "execute_result"
    }
   ],
   "source": [
    "wnut_df[\"test_score\"].isna().sum()"
   ]
  },
  {
   "cell_type": "code",
   "execution_count": 5,
   "id": "6755548f-727a-452d-b96f-512790a292e8",
   "metadata": {},
   "outputs": [],
   "source": [
    "relevant_full_df = full_df[[\"run_type\", \"test_score\", \"corpus\"]]\n",
    "relevant_conll_df = conll_df[[\"run_type\", \"test_score\", \"corpus\"]]\n",
    "relevant_wnut_df = wnut_df[[\"run_type\", \"test_score\", \"corpus\"]]\n",
    "relevant_mit_df = mit_df[[\"run_type\", \"test_score\", \"corpus\"]]"
   ]
  },
  {
   "cell_type": "code",
   "execution_count": 20,
   "id": "3c623b6c-1b86-4944-8a7b-e745ded5c335",
   "metadata": {},
   "outputs": [
    {
     "data": {
      "text/html": [
       "<div>\n",
       "<style scoped>\n",
       "    .dataframe tbody tr th:only-of-type {\n",
       "        vertical-align: middle;\n",
       "    }\n",
       "\n",
       "    .dataframe tbody tr th {\n",
       "        vertical-align: top;\n",
       "    }\n",
       "\n",
       "    .dataframe thead th {\n",
       "        text-align: right;\n",
       "    }\n",
       "</style>\n",
       "<table border=\"1\" class=\"dataframe\">\n",
       "  <thead>\n",
       "    <tr style=\"text-align: right;\">\n",
       "      <th></th>\n",
       "      <th>CONLL 2003</th>\n",
       "      <th>WNUT 2017</th>\n",
       "      <th>MIT ENGLISH RESTAURANT</th>\n",
       "    </tr>\n",
       "    <tr>\n",
       "      <th>Parameter</th>\n",
       "      <th></th>\n",
       "      <th></th>\n",
       "      <th></th>\n",
       "    </tr>\n",
       "  </thead>\n",
       "  <tbody>\n",
       "    <tr>\n",
       "      <th>Mean ContrastNER</th>\n",
       "      <td>0.558415</td>\n",
       "      <td>0.241271</td>\n",
       "      <td>0.444502</td>\n",
       "    </tr>\n",
       "    <tr>\n",
       "      <th>Mean Baseline</th>\n",
       "      <td>0.460246</td>\n",
       "      <td>0.205045</td>\n",
       "      <td>0.404742</td>\n",
       "    </tr>\n",
       "    <tr>\n",
       "      <th>Mean Difference</th>\n",
       "      <td>0.098169</td>\n",
       "      <td>0.036225</td>\n",
       "      <td>0.03976</td>\n",
       "    </tr>\n",
       "    <tr>\n",
       "      <th>Median Contrastive</th>\n",
       "      <td>0.560442</td>\n",
       "      <td>0.233622</td>\n",
       "      <td>0.446677</td>\n",
       "    </tr>\n",
       "    <tr>\n",
       "      <th>Median Baseline</th>\n",
       "      <td>0.463159</td>\n",
       "      <td>0.203098</td>\n",
       "      <td>0.409486</td>\n",
       "    </tr>\n",
       "    <tr>\n",
       "      <th>Median Difference</th>\n",
       "      <td>0.097283</td>\n",
       "      <td>0.030524</td>\n",
       "      <td>0.037191</td>\n",
       "    </tr>\n",
       "    <tr>\n",
       "      <th>STD Contrastner</th>\n",
       "      <td>0.061606</td>\n",
       "      <td>0.048445</td>\n",
       "      <td>0.031927</td>\n",
       "    </tr>\n",
       "    <tr>\n",
       "      <th>STD Baseline</th>\n",
       "      <td>0.089139</td>\n",
       "      <td>0.041195</td>\n",
       "      <td>0.032329</td>\n",
       "    </tr>\n",
       "    <tr>\n",
       "      <th>Higher Test Score</th>\n",
       "      <td>ContrastNER</td>\n",
       "      <td>ContrastNER</td>\n",
       "      <td>ContrastNER</td>\n",
       "    </tr>\n",
       "  </tbody>\n",
       "</table>\n",
       "</div>"
      ],
      "text/plain": [
       "                     CONLL 2003    WNUT 2017 MIT ENGLISH RESTAURANT\n",
       "Parameter                                                          \n",
       "Mean ContrastNER       0.558415     0.241271               0.444502\n",
       "Mean Baseline          0.460246     0.205045               0.404742\n",
       "Mean Difference        0.098169     0.036225                0.03976\n",
       "Median Contrastive     0.560442     0.233622               0.446677\n",
       "Median Baseline        0.463159     0.203098               0.409486\n",
       "Median Difference      0.097283     0.030524               0.037191\n",
       "STD Contrastner        0.061606     0.048445               0.031927\n",
       "STD Baseline           0.089139     0.041195               0.032329\n",
       "Higher Test Score   ContrastNER  ContrastNER            ContrastNER"
      ]
     },
     "execution_count": 20,
     "metadata": {},
     "output_type": "execute_result"
    }
   ],
   "source": [
    "def stats_per_experiment(df) -> pd.DataFrame:\n",
    "    corpus = df.loc[0, \"corpus\"].replace(\"_\", \" \")\n",
    "    mean_contrastive = df[df[\"run_type\"] == \"contrastive\"][\"test_score\"].mean()\n",
    "    std_contrastive = df[df[\"run_type\"] == \"contrastive\"][\"test_score\"].std()\n",
    "    median_contrastive = df[df[\"run_type\"] == \"contrastive\"][\"test_score\"].median()\n",
    "    mean_baseline = df[df[\"run_type\"] == \"baseline\"][\"test_score\"].mean()\n",
    "    std_baseline = df[df[\"run_type\"] == \"baseline\"][\"test_score\"].std()\n",
    "    median_baseline = df[df[\"run_type\"] == \"baseline\"][\"test_score\"].median()\n",
    "    mean_diff = abs(mean_contrastive - mean_baseline)\n",
    "    median_diff = abs(median_contrastive - median_baseline)\n",
    "    higher_score = \"ContrastNER\" if mean_contrastive >= mean_baseline else \"Baseline\"\n",
    "\n",
    "    # Create the DataFrame\n",
    "    df = pd.DataFrame({\n",
    "        \"Parameter\": [\"Mean ContrastNER\",  \"Mean Baseline\", \"Mean Difference\", \"Median Contrastive\", \"Median Baseline\", \"Median Difference\", \"STD Contrastner\", \"STD Baseline\", \"Higher Test Score\"],\n",
    "        corpus: [mean_contrastive, mean_baseline, mean_diff, median_contrastive, median_baseline, median_diff, std_contrastive, std_baseline, higher_score]\n",
    "    })\n",
    "    \n",
    "    # Set \"Parameter\" as the index\n",
    "    df.set_index(\"Parameter\", inplace=True)\n",
    "    return df\n",
    "\n",
    "\n",
    "stats_df = stats_per_experiment(conll_df).join(stats_per_experiment(wnut_df)).join(stats_per_experiment(mit_df))\n",
    "stats_df"
   ]
  },
  {
   "cell_type": "code",
   "execution_count": 75,
   "id": "7a76406c-8ef3-41ee-b8c3-1dc9aee18deb",
   "metadata": {},
   "outputs": [
    {
     "data": {
      "text/html": [
       "<style type=\"text/css\">\n",
       "</style>\n",
       "<table id=\"T_82779\">\n",
       "  <thead>\n",
       "    <tr>\n",
       "      <th class=\"index_name level0\" >corpus</th>\n",
       "      <th id=\"T_82779_level0_col0\" class=\"col_heading level0 col0\" >CONLL 2003</th>\n",
       "      <th id=\"T_82779_level0_col1\" class=\"col_heading level0 col1\" >MIT ENGLISH RESTAURANT</th>\n",
       "      <th id=\"T_82779_level0_col2\" class=\"col_heading level0 col2\" >WNUT 2017</th>\n",
       "    </tr>\n",
       "  </thead>\n",
       "  <tbody>\n",
       "    <tr>\n",
       "      <th id=\"T_82779_level0_row0\" class=\"row_heading level0 row0\" >Median Baseline</th>\n",
       "      <td id=\"T_82779_row0_col0\" class=\"data row0 col0\" >0.4632</td>\n",
       "      <td id=\"T_82779_row0_col1\" class=\"data row0 col1\" >0.4095</td>\n",
       "      <td id=\"T_82779_row0_col2\" class=\"data row0 col2\" >0.2031</td>\n",
       "    </tr>\n",
       "    <tr>\n",
       "      <th id=\"T_82779_level0_row1\" class=\"row_heading level0 row1\" >Median ContrastNER</th>\n",
       "      <td id=\"T_82779_row1_col0\" class=\"data row1 col0\" >0.5604</td>\n",
       "      <td id=\"T_82779_row1_col1\" class=\"data row1 col1\" >0.4467</td>\n",
       "      <td id=\"T_82779_row1_col2\" class=\"data row1 col2\" >0.2336</td>\n",
       "    </tr>\n",
       "    <tr>\n",
       "      <th id=\"T_82779_level0_row2\" class=\"row_heading level0 row2\" >Mean Baseline</th>\n",
       "      <td id=\"T_82779_row2_col0\" class=\"data row2 col0\" >0.4602</td>\n",
       "      <td id=\"T_82779_row2_col1\" class=\"data row2 col1\" >0.4047</td>\n",
       "      <td id=\"T_82779_row2_col2\" class=\"data row2 col2\" >0.2050</td>\n",
       "    </tr>\n",
       "    <tr>\n",
       "      <th id=\"T_82779_level0_row3\" class=\"row_heading level0 row3\" >Mean ContrastNER</th>\n",
       "      <td id=\"T_82779_row3_col0\" class=\"data row3 col0\" >0.5584</td>\n",
       "      <td id=\"T_82779_row3_col1\" class=\"data row3 col1\" >0.4445</td>\n",
       "      <td id=\"T_82779_row3_col2\" class=\"data row3 col2\" >0.2413</td>\n",
       "    </tr>\n",
       "    <tr>\n",
       "      <th id=\"T_82779_level0_row4\" class=\"row_heading level0 row4\" >Standard Deviation Baseline</th>\n",
       "      <td id=\"T_82779_row4_col0\" class=\"data row4 col0\" >0.0891</td>\n",
       "      <td id=\"T_82779_row4_col1\" class=\"data row4 col1\" >0.0323</td>\n",
       "      <td id=\"T_82779_row4_col2\" class=\"data row4 col2\" >0.0412</td>\n",
       "    </tr>\n",
       "    <tr>\n",
       "      <th id=\"T_82779_level0_row5\" class=\"row_heading level0 row5\" >Standard Deviation ContrastNER</th>\n",
       "      <td id=\"T_82779_row5_col0\" class=\"data row5 col0\" >0.0616</td>\n",
       "      <td id=\"T_82779_row5_col1\" class=\"data row5 col1\" >0.0319</td>\n",
       "      <td id=\"T_82779_row5_col2\" class=\"data row5 col2\" >0.0484</td>\n",
       "    </tr>\n",
       "  </tbody>\n",
       "</table>\n"
      ],
      "text/plain": [
       "<pandas.io.formats.style.Styler at 0x13c322870>"
      ]
     },
     "execution_count": 75,
     "metadata": {},
     "output_type": "execute_result"
    }
   ],
   "source": [
    "# Remove rows with NaN values in 'test_score'\n",
    "df = full_df.dropna(subset=['test_score'])\n",
    "\n",
    "# Group the DataFrame by 'corpus' and 'run_type', and calculate statistics for 'test_score'\n",
    "stats = df.groupby(['corpus', 'run_type'])['test_score'].agg(['median', 'mean', 'std'])\n",
    "\n",
    "# Rename the columns for clarity\n",
    "stats.columns = ['Median', 'Mean', 'Standard Deviation']\n",
    "\n",
    "# Round the results to 4 decimal places\n",
    "stats = stats.round(4)\n",
    "\n",
    "# Reshape the DataFrame to have 'run_type' as columns\n",
    "stats_reshaped = stats.unstack(level='run_type')\n",
    "\n",
    "# Flatten column names\n",
    "stats_reshaped.columns = [' '.join(col).strip() for col in stats_reshaped.columns.values]\n",
    "stats_reshaped.columns = stats_reshaped.columns.str.title()\n",
    "stats_reshaped.columns = stats_reshaped.columns.str.replace(\"Contrastive\", \"ContrastNER\")\n",
    "\n",
    "# Display the results\n",
    "stats_reshaped = stats_reshaped.T\n",
    "stats_reshaped.columns = stats_reshaped.columns.str.replace(\"_\", \" \")\n",
    "stats_reshaped_styler = stats_reshaped.style.format(precision=4)\n",
    "stats_reshaped_styler"
   ]
  },
  {
   "cell_type": "code",
   "execution_count": 76,
   "id": "70b0e252-3563-46cf-9d1f-db3a3c9317d5",
   "metadata": {},
   "outputs": [
    {
     "name": "stdout",
     "output_type": "stream",
     "text": [
      "\\begin{tabular}{lrrr}\n",
      "corpus & CONLL 2003 & MIT ENGLISH RESTAURANT & WNUT 2017 \\\\\n",
      "Median Baseline & 0.4632 & 0.4095 & 0.2031 \\\\\n",
      "Median ContrastNER & 0.5604 & 0.4467 & 0.2336 \\\\\n",
      "Mean Baseline & 0.4602 & 0.4047 & 0.2050 \\\\\n",
      "Mean ContrastNER & 0.5584 & 0.4445 & 0.2413 \\\\\n",
      "Standard Deviation Baseline & 0.0891 & 0.0323 & 0.0412 \\\\\n",
      "Standard Deviation ContrastNER & 0.0616 & 0.0319 & 0.0484 \\\\\n",
      "\\end{tabular}\n",
      "\n"
     ]
    }
   ],
   "source": [
    "print(stats_reshaped_styler.to_latex())"
   ]
  },
  {
   "cell_type": "code",
   "execution_count": 84,
   "id": "f8065e47-be3d-4c4b-8007-8745f802dcf8",
   "metadata": {},
   "outputs": [
    {
     "data": {
      "text/html": [
       "<style type=\"text/css\">\n",
       "</style>\n",
       "<table id=\"T_342c5\">\n",
       "  <thead>\n",
       "    <tr>\n",
       "      <th class=\"blank level0\" >&nbsp;</th>\n",
       "      <th id=\"T_342c5_level0_col0\" class=\"col_heading level0 col0\" >Advantage Median</th>\n",
       "      <th id=\"T_342c5_level0_col1\" class=\"col_heading level0 col1\" >Advantage Mean</th>\n",
       "    </tr>\n",
       "    <tr>\n",
       "      <th class=\"index_name level0\" >corpus</th>\n",
       "      <th class=\"blank col0\" >&nbsp;</th>\n",
       "      <th class=\"blank col1\" >&nbsp;</th>\n",
       "    </tr>\n",
       "  </thead>\n",
       "  <tbody>\n",
       "    <tr>\n",
       "      <th id=\"T_342c5_level0_row0\" class=\"row_heading level0 row0\" >CONLL 2003</th>\n",
       "      <td id=\"T_342c5_row0_col0\" class=\"data row0 col0\" >0.0972</td>\n",
       "      <td id=\"T_342c5_row0_col1\" class=\"data row0 col1\" >0.0982</td>\n",
       "    </tr>\n",
       "    <tr>\n",
       "      <th id=\"T_342c5_level0_row1\" class=\"row_heading level0 row1\" >MIT ENGLISH RESTAURANT</th>\n",
       "      <td id=\"T_342c5_row1_col0\" class=\"data row1 col0\" >0.0372</td>\n",
       "      <td id=\"T_342c5_row1_col1\" class=\"data row1 col1\" >0.0398</td>\n",
       "    </tr>\n",
       "    <tr>\n",
       "      <th id=\"T_342c5_level0_row2\" class=\"row_heading level0 row2\" >WNUT 2017</th>\n",
       "      <td id=\"T_342c5_row2_col0\" class=\"data row2 col0\" >0.0305</td>\n",
       "      <td id=\"T_342c5_row2_col1\" class=\"data row2 col1\" >0.0363</td>\n",
       "    </tr>\n",
       "  </tbody>\n",
       "</table>\n"
      ],
      "text/plain": [
       "<pandas.io.formats.style.Styler at 0x13fb41730>"
      ]
     },
     "execution_count": 84,
     "metadata": {},
     "output_type": "execute_result"
    }
   ],
   "source": [
    "diff_cont = stats_reshaped.T.filter(like='ContrastNER')\n",
    "diff_cont.columns = [\"median\", \"mean\", \"std\"]\n",
    "\n",
    "diff_base = stats_reshaped.T.filter(like='Baseline')\n",
    "diff_base.columns = [\"median\", \"mean\", \"std\"]\n",
    "\n",
    "diff = diff_cont - diff_base\n",
    "diff = diff.iloc[:, 0:2]\n",
    "diff.columns = [\"Advantage Median\", \"Advantage Mean\"]\n",
    "diff_styler = diff.style.format(precision=4)\n",
    "diff_styler"
   ]
  },
  {
   "cell_type": "code",
   "execution_count": 85,
   "id": "58c731c3-08c6-4575-b9d4-2456b9fa86d9",
   "metadata": {},
   "outputs": [
    {
     "name": "stdout",
     "output_type": "stream",
     "text": [
      "\\begin{tabular}{lrr}\n",
      " & Advantage Median & Advantage Mean \\\\\n",
      "corpus &  &  \\\\\n",
      "CONLL 2003 & 0.0972 & 0.0982 \\\\\n",
      "MIT ENGLISH RESTAURANT & 0.0372 & 0.0398 \\\\\n",
      "WNUT 2017 & 0.0305 & 0.0363 \\\\\n",
      "\\end{tabular}\n",
      "\n"
     ]
    }
   ],
   "source": [
    "print(diff_styler.to_latex())"
   ]
  },
  {
   "cell_type": "code",
   "execution_count": 72,
   "id": "f4cc344d-90d8-49a7-811e-e49c8634b23d",
   "metadata": {},
   "outputs": [
    {
     "name": "stdout",
     "output_type": "stream",
     "text": [
      "\\begin{tabular}{lrr}\n",
      "\\toprule\n",
      " & Advantage Median & Advantage Mean \\\\\n",
      "corpus &  &  \\\\\n",
      "\\midrule\n",
      "CONLL_2003 & 0.097200 & 0.098200 \\\\\n",
      "MIT_ENGLISH_RESTAURANT & 0.037200 & 0.039800 \\\\\n",
      "WNUT_2017 & 0.030500 & 0.036300 \\\\\n",
      "\\bottomrule\n",
      "\\end{tabular}\n",
      "\n"
     ]
    }
   ],
   "source": [
    "print(stats_df.to_latex())\n"
   ]
  },
  {
   "cell_type": "code",
   "execution_count": 13,
   "id": "38744bdf-08b3-4f4d-bbbe-cfaa9ddda176",
   "metadata": {},
   "outputs": [
    {
     "data": {
      "image/png": "[encoded data removed]",
      "text/plain": [
       "<Figure size 600x600 with 1 Axes>"
      ]
     },
     "metadata": {},
     "output_type": "display_data"
    }
   ],
   "source": [
    "plt.figure(figsize=(6, 6))\n",
    "\n",
    "sns.boxplot(x='corpus', y='test_score', data=wnut_bs64_df, hue='run_type')\n",
    "\n",
    "plt.title('Test Scores by Run Type')\n",
    "plt.xlabel('Corpus')\n",
    "plt.ylabel('Test Score')\n",
    "\n",
    "save_path = Path(os.getcwd(), \"output_figs\", \"bs64_baseline_wnut_fig.png\")\n",
    "plt.savefig(save_path, bbox_inches='tight')\n",
    "plt.show()"
   ]
  },
  {
   "cell_type": "code",
   "execution_count": 16,
   "id": "0f48d583-6d82-4611-93e9-c58a8c4ca905",
   "metadata": {},
   "outputs": [
    {
     "name": "stdout",
     "output_type": "stream",
     "text": [
      "\\begin{tabular}{ll}\n",
      "\\toprule\n",
      " & WNUT 2017 \\\\\n",
      "Parameter &  \\\\\n",
      "\\midrule\n",
      "Mean ContrastNER & 0.236329 \\\\\n",
      "Mean Baseline & 0.195556 \\\\\n",
      "Mean Difference & 0.040773 \\\\\n",
      "STD Contrastner & 0.061583 \\\\\n",
      "STD Baseline & 0.050131 \\\\\n",
      "Higher Test Score & ContrastNER \\\\\n",
      "\\bottomrule\n",
      "\\end{tabular}\n",
      "\n"
     ]
    }
   ],
   "source": [
    "stats_inc_wnut_df = stats_per_experiment(wnut_bs64_df)\n",
    "print(stats_inc_wnut_df.to_latex())"
   ]
  }
 ],
 "metadata": {
  "kernelspec": {
   "display_name": "Python 3 (ipykernel)",
   "language": "python",
   "name": "python3"
  },
  "language_info": {
   "codemirror_mode": {
    "name": "ipython",
    "version": 3
   },
   "file_extension": ".py",
   "mimetype": "text/x-python",
   "name": "python",
   "nbconvert_exporter": "python",
   "pygments_lexer": "ipython3",
   "version": "3.12.4"
  }
 },
 "nbformat": 4,
 "nbformat_minor": 5
}
