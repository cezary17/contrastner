{
 "cells": [
  {
   "cell_type": "code",
   "execution_count": 16,
   "id": "ebd76d02-8b79-4846-aee0-ed587771e939",
   "metadata": {},
   "outputs": [],
   "source": [
    "import os\n",
    "import pandas as pd\n",
    "import numpy as np\n",
    "import matplotlib.pyplot as plt\n",
    "# import seaborn as sns\n",
    "import torch\n",
    "\n",
    "import flair\n",
    "from flair.datasets import CONLL_03\n",
    "from collections import defaultdict, deque\n",
    "from pathlib import Path\n",
    "import re\n",
    "\n",
    "# sns.set_theme(style=\"whitegrid\", palette=\"Set2\")\n",
    "# sns.set_context(\"paper\")\n",
    "# plt.rcParams['savefig.dpi'] = 300"
   ]
  },
  {
   "cell_type": "code",
   "execution_count": 8,
   "id": "d9f4aeb5-5966-4c5c-9bf9-3d69f12afa9c",
   "metadata": {},
   "outputs": [
    {
     "name": "stdout",
     "output_type": "stream",
     "text": [
      "2024-09-10 19:54:48,626 Reading data from /Users/cezary/.flair/datasets/conll_03\n",
      "2024-09-10 19:54:48,626 Train: /Users/cezary/.flair/datasets/conll_03/train.txt\n",
      "2024-09-10 19:54:48,627 Dev: /Users/cezary/.flair/datasets/conll_03/dev.txt\n",
      "2024-09-10 19:54:48,627 Test: /Users/cezary/.flair/datasets/conll_03/test.txt\n"
     ]
    }
   ],
   "source": [
    "dataset = CONLL_03()"
   ]
  },
  {
   "cell_type": "code",
   "execution_count": 21,
   "id": "8200172c-6c6e-410d-80f6-834a0dec3ef2",
   "metadata": {},
   "outputs": [
    {
     "name": "stdout",
     "output_type": "stream",
     "text": [
      "Sentence[9]: \"EU rejects German call to boycott British lamb .\" → [\"EU\"/ORG, \"German\"/MISC, \"British\"/MISC]\n",
      "\n",
      "Sentence[30]: \"The European Commission said on Thursday it disagreed with German advice to consumers to shun British lamb until scientists determine whether mad cow disease can be transmitted to sheep .\" → [\"European Commission\"/ORG, \"German\"/MISC, \"British\"/MISC]\n",
      "\n",
      "Sentence[31]: \"Germany 's representative to the European Union 's veterinary committee Werner Zwingmann said on Wednesday consumers should buy sheepmeat from countries other than Britain until the scientific advice was clearer .\" → [\"Germany\"/LOC, \"European Union\"/ORG, \"Werner Zwingmann\"/PER, \"Britain\"/LOC]\n",
      "\n",
      "Sentence[33]: \"\" We do n't support any such recommendation because we do n't see any grounds for it , \" the Commission 's chief spokesman Nikolaus van der Pas told a news briefing .\" → [\"Commission\"/ORG, \"Nikolaus van der Pas\"/PER]\n",
      "\n",
      "Sentence[25]: \"He said further scientific study was required and if it was found that action was needed it should be taken by the European Union .\" → [\"European Union\"/ORG]\n",
      "\n",
      "Sentence[40]: \"He said a proposal last month by EU Farm Commissioner Franz Fischler to ban sheep brains , spleens and spinal cords from the human and animal food chains was a highly specific and precautionary move to protect human health .\" → [\"EU\"/ORG, \"Franz Fischler\"/PER]\n",
      "\n",
      "Sentence[37]: \"But Fischler agreed to review his proposal after the EU 's standing veterinary committee , mational animal health officials , questioned if such action was justified as there was only a slight risk to human health .\" → [\"Fischler\"/PER, \"EU\"/ORG]\n",
      "\n",
      "Sentence[27]: \"Spanish Farm Minister Loyola de Palacio had earlier accused Fischler at an EU farm ministers ' meeting of causing unjustified alarm through \" dangerous generalisation . \"\" → [\"Spanish\"/MISC, \"Loyola de Palacio\"/PER, \"Fischler\"/PER, \"EU\"/ORG]\n",
      "\n",
      "Sentence[26]: \"The EU 's scientific veterinary and multidisciplinary committees are due to re-examine the issue early next month and make recommendations to the senior veterinary officials .\" → [\"EU\"/ORG]\n",
      "\n",
      "Sentence[39]: \"\" What we have to be extremely careful of is how other countries are going to take Germany 's lead , \" Welsh National Farmers ' Union ( NFU ) chairman John Lloyd Jones said on BBC radio .\" → [\"Germany\"/LOC, \"Welsh National Farmers ' Union\"/ORG, \"NFU\"/ORG, \"John Lloyd Jones\"/PER, \"BBC radio\"/ORG]\n",
      "\n",
      "Sentence[47]: \"Speaking only hours after Chinese state media said the time was right to engage in political talks with Taiwan , Foreign Ministry spokesman Shen Guofang told Reuters : \" The necessary atmosphere for the opening of the talks has been disrupted by the Taiwan authorities . \"\" → [\"Chinese\"/MISC, \"Taiwan\"/LOC, \"Foreign Ministry\"/ORG, \"Shen Guofang\"/PER, \"Reuters\"/ORG, \"Taiwan\"/LOC]\n",
      "\n",
      "Sentence[24]: \"that is to end the state of hostility , \" Thursday 's overseas edition of the People 's Daily quoted Tang as saying .\" → [\"People 's Daily\"/ORG, \"Tang\"/PER]\n",
      "\n",
      "Sentence[44]: \"The foreign ministry 's Shen told Reuters Television in an interview he had read reports of Tang 's comments but gave no details of why the negotiator had considered the time right for talks with Taiwan , which Beijing considers a renegade province .\" → [\"Shen\"/ORG, \"Reuters Television\"/ORG, \"Tang\"/PER, \"Taiwan\"/LOC, \"Beijing\"/LOC]\n",
      "\n",
      "Sentence[42]: \"Consultations should be held to set the time and format of the talks , the official Xinhua news agency quoted Tang Shubei , executive vice chairman of the Association for Relations Across the Taiwan Straits , as saying late on Wednesday .\" → [\"Xinhua\"/ORG, \"Tang Shubei\"/PER, \"Association for Relations Across the Taiwan Straits\"/ORG]\n",
      "\n",
      "Sentence[28]: \"German first-time registrations of motor vehicles jumped 14.2 percent in July this year from the year-earlier period , the Federal office for motor vehicles said on Thursday .\" → [\"German\"/MISC, \"Federal office for motor vehicles\"/ORG]\n",
      "\n"
     ]
    }
   ],
   "source": [
    "a = 0\n",
    "for sentence in dataset.train:\n",
    "    ts_sentence = sentence.to_tagged_string(main_label=\"ner\")\n",
    "    if \"ORG\" in ts_sentence:\n",
    "        print(ts_sentence)\n",
    "        print()\n",
    "    a += 1\n",
    "    if a > 50:\n",
    "        break"
   ]
  },
  {
   "cell_type": "code",
   "execution_count": 5,
   "id": "7f17dcc1-aa0d-4554-b7b7-dd78271eec62",
   "metadata": {},
   "outputs": [
    {
     "ename": "NameError",
     "evalue": "name 'sentence' is not defined",
     "output_type": "error",
     "traceback": [
      "\u001b[0;31m---------------------------------------------------------------------------\u001b[0m",
      "\u001b[0;31mNameError\u001b[0m                                 Traceback (most recent call last)",
      "Cell \u001b[0;32mIn[5], line 1\u001b[0m\n\u001b[0;32m----> 1\u001b[0m \u001b[43msentence\u001b[49m\u001b[38;5;241m.\u001b[39mto_dict(tag_type\u001b[38;5;241m=\u001b[39m\u001b[38;5;124m\"\u001b[39m\u001b[38;5;124mner\u001b[39m\u001b[38;5;124m\"\u001b[39m)\n",
      "\u001b[0;31mNameError\u001b[0m: name 'sentence' is not defined"
     ]
    }
   ],
   "source": [
    "sentence.to_dict(tag_type=\"ner\")"
   ]
  },
  {
   "cell_type": "code",
   "execution_count": null,
   "id": "b33d17c4-5ebd-4754-aa60-bf6e27a55d0f",
   "metadata": {},
   "outputs": [],
   "source": []
  }
 ],
 "metadata": {
  "kernelspec": {
   "display_name": "Python 3 (ipykernel)",
   "language": "python",
   "name": "python3"
  },
  "language_info": {
   "codemirror_mode": {
    "name": "ipython",
    "version": 3
   },
   "file_extension": ".py",
   "mimetype": "text/x-python",
   "name": "python",
   "nbconvert_exporter": "python",
   "pygments_lexer": "ipython3",
   "version": "3.12.4"
  }
 },
 "nbformat": 4,
 "nbformat_minor": 5
}
