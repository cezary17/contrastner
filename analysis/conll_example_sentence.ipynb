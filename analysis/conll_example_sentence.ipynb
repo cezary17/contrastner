{
 "cells": [
  {
   "cell_type": "code",
   "execution_count": 2,
   "id": "ebd76d02-8b79-4846-aee0-ed587771e939",
   "metadata": {},
   "outputs": [],
   "source": [
    "import os\n",
    "import pandas as pd\n",
    "import numpy as np\n",
    "import matplotlib.pyplot as plt\n",
    "import seaborn as sns\n",
    "import torch\n",
    "\n",
    "import flair\n",
    "from flair.datasets import CONLL_03\n",
    "from collections import defaultdict, deque\n",
    "from pathlib import Path\n",
    "\n",
    "sns.set_theme(style=\"whitegrid\", palette=\"Set2\")\n",
    "sns.set_context(\"paper\")\n",
    "plt.rcParams['savefig.dpi'] = 300"
   ]
  },
  {
   "cell_type": "code",
   "execution_count": 3,
   "id": "d9f4aeb5-5966-4c5c-9bf9-3d69f12afa9c",
   "metadata": {},
   "outputs": [
    {
     "name": "stdout",
     "output_type": "stream",
     "text": [
      "2024-08-24 13:32:14,126 Reading data from /Users/cezary/.flair/datasets/conll_03\n",
      "2024-08-24 13:32:14,126 Train: /Users/cezary/.flair/datasets/conll_03/train.txt\n",
      "2024-08-24 13:32:14,126 Dev: /Users/cezary/.flair/datasets/conll_03/dev.txt\n",
      "2024-08-24 13:32:14,126 Test: /Users/cezary/.flair/datasets/conll_03/test.txt\n"
     ]
    }
   ],
   "source": [
    "dataset = CONLL_03()"
   ]
  },
  {
   "cell_type": "code",
   "execution_count": 21,
   "id": "8200172c-6c6e-410d-80f6-834a0dec3ef2",
   "metadata": {},
   "outputs": [
    {
     "name": "stdout",
     "output_type": "stream",
     "text": [
      "Sentence[1]: \"-DOCSTART-\" → [\"-DOCSTART-\"/-X-]\n",
      "\n",
      "Sentence[9]: \"EU rejects German call to boycott British lamb .\" → [\"EU\"/NNP, \"EU\"/ORG, \"rejects\"/VBZ, \"German\"/JJ, \"German\"/MISC, \"call\"/NN, \"to\"/TO, \"boycott\"/VB, \"British\"/JJ, \"British\"/MISC, \"lamb\"/NN, \".\"/.]\n",
      "\n",
      "Sentence[2]: \"Peter Blackburn\" → [\"Peter\"/NNP, \"Peter Blackburn\"/PER, \"Blackburn\"/NNP]\n",
      "\n",
      "Sentence[2]: \"BRUSSELS 1996-08-22\" → [\"BRUSSELS\"/NNP, \"BRUSSELS\"/LOC, \"1996-08-22\"/CD]\n",
      "\n",
      "Sentence[30]: \"The European Commission said on Thursday it disagreed with German advice to consumers to shun British lamb until scientists determine whether mad cow disease can be transmitted to sheep .\" → [\"The\"/DT, \"European\"/NNP, \"European Commission\"/ORG, \"Commission\"/NNP, \"said\"/VBD, \"on\"/IN, \"Thursday\"/NNP, \"it\"/PRP, \"disagreed\"/VBD, \"with\"/IN, \"German\"/JJ, \"German\"/MISC, \"advice\"/NN, \"to\"/TO, \"consumers\"/NNS, \"to\"/TO, \"shun\"/VB, \"British\"/JJ, \"British\"/MISC, \"lamb\"/NN, \"until\"/IN, \"scientists\"/NNS, \"determine\"/VBP, \"whether\"/IN, \"mad\"/JJ, \"cow\"/NN, \"disease\"/NN, \"can\"/MD, \"be\"/VB, \"transmitted\"/VBN, \"to\"/TO, \"sheep\"/NN, \".\"/.]\n",
      "\n",
      "Sentence[31]: \"Germany 's representative to the European Union 's veterinary committee Werner Zwingmann said on Wednesday consumers should buy sheepmeat from countries other than Britain until the scientific advice was clearer .\" → [\"Germany\"/NNP, \"Germany\"/LOC, \"'s\"/POS, \"representative\"/NN, \"to\"/TO, \"the\"/DT, \"European\"/NNP, \"European Union\"/ORG, \"Union\"/NNP, \"'s\"/POS, \"veterinary\"/JJ, \"committee\"/NN, \"Werner\"/NNP, \"Werner Zwingmann\"/PER, \"Zwingmann\"/NNP, \"said\"/VBD, \"on\"/IN, \"Wednesday\"/NNP, \"consumers\"/NNS, \"should\"/MD, \"buy\"/VB, \"sheepmeat\"/NN, \"from\"/IN, \"countries\"/NNS, \"other\"/JJ, \"than\"/IN, \"Britain\"/NNP, \"Britain\"/LOC, \"until\"/IN, \"the\"/DT, \"scientific\"/JJ, \"advice\"/NN, \"was\"/VBD, \"clearer\"/JJR, \".\"/.]\n",
      "\n",
      "Sentence[33]: \"\" We do n't support any such recommendation because we do n't see any grounds for it , \" the Commission 's chief spokesman Nikolaus van der Pas told a news briefing .\" → [\"\"\"/\", \"We\"/PRP, \"do\"/VBP, \"n't\"/RB, \"support\"/VB, \"any\"/DT, \"such\"/JJ, \"recommendation\"/NN, \"because\"/IN, \"we\"/PRP, \"do\"/VBP, \"n't\"/RB, \"see\"/VB, \"any\"/DT, \"grounds\"/NNS, \"for\"/IN, \"it\"/PRP, \",\"/,, \"\"\"/\", \"the\"/DT, \"Commission\"/NNP, \"Commission\"/ORG, \"'s\"/POS, \"chief\"/JJ, \"spokesman\"/NN, \"Nikolaus\"/NNP, \"Nikolaus van der Pas\"/PER, \"van\"/NNP, \"der\"/FW, \"Pas\"/NNP, \"told\"/VBD, \"a\"/DT, \"news\"/NN, \"briefing\"/NN, \".\"/.]\n",
      "\n",
      "Sentence[25]: \"He said further scientific study was required and if it was found that action was needed it should be taken by the European Union .\" → [\"He\"/PRP, \"said\"/VBD, \"further\"/JJ, \"scientific\"/JJ, \"study\"/NN, \"was\"/VBD, \"required\"/VBN, \"and\"/CC, \"if\"/IN, \"it\"/PRP, \"was\"/VBD, \"found\"/VBN, \"that\"/IN, \"action\"/NN, \"was\"/VBD, \"needed\"/VBN, \"it\"/PRP, \"should\"/MD, \"be\"/VB, \"taken\"/VBN, \"by\"/IN, \"the\"/DT, \"European\"/NNP, \"European Union\"/ORG, \"Union\"/NNP, \".\"/.]\n",
      "\n",
      "Sentence[40]: \"He said a proposal last month by EU Farm Commissioner Franz Fischler to ban sheep brains , spleens and spinal cords from the human and animal food chains was a highly specific and precautionary move to protect human health .\" → [\"He\"/PRP, \"said\"/VBD, \"a\"/DT, \"proposal\"/NN, \"last\"/JJ, \"month\"/NN, \"by\"/IN, \"EU\"/NNP, \"EU\"/ORG, \"Farm\"/NNP, \"Commissioner\"/NNP, \"Franz\"/NNP, \"Franz Fischler\"/PER, \"Fischler\"/NNP, \"to\"/TO, \"ban\"/VB, \"sheep\"/NN, \"brains\"/NNS, \",\"/,, \"spleens\"/NNS, \"and\"/CC, \"spinal\"/JJ, \"cords\"/NNS, \"from\"/IN, \"the\"/DT, \"human\"/NN, \"and\"/CC, \"animal\"/NN, \"food\"/NN, \"chains\"/NNS, \"was\"/VBD, \"a\"/DT, \"highly\"/RB, \"specific\"/JJ, \"and\"/CC, \"precautionary\"/JJ, \"move\"/NN, \"to\"/TO, \"protect\"/VB, \"human\"/JJ, \"health\"/NN, \".\"/.]\n",
      "\n",
      "Sentence[28]: \"Fischler proposed EU-wide measures after reports from Britain and France that under laboratory conditions sheep could contract Bovine Spongiform Encephalopathy ( BSE ) -- mad cow disease .\" → [\"Fischler\"/JJR, \"Fischler\"/PER, \"proposed\"/VBN, \"EU-wide\"/NNP, \"EU-wide\"/MISC, \"measures\"/VBZ, \"after\"/IN, \"reports\"/NNS, \"from\"/IN, \"Britain\"/NNP, \"Britain\"/LOC, \"and\"/CC, \"France\"/NNP, \"France\"/LOC, \"that\"/WDT, \"under\"/IN, \"laboratory\"/NN, \"conditions\"/NNS, \"sheep\"/NN, \"could\"/MD, \"contract\"/VB, \"Bovine\"/NNP, \"Bovine Spongiform Encephalopathy\"/MISC, \"Spongiform\"/NNP, \"Encephalopathy\"/NNP, \"(\"/(, \"BSE\"/NNP, \"BSE\"/MISC, \")\"/), \"--\"/:, \"mad\"/JJ, \"cow\"/NN, \"disease\"/NN, \".\"/.]\n",
      "\n",
      "Sentence[37]: \"But Fischler agreed to review his proposal after the EU 's standing veterinary committee , mational animal health officials , questioned if such action was justified as there was only a slight risk to human health .\" → [\"But\"/CC, \"Fischler\"/NNP, \"Fischler\"/PER, \"agreed\"/VBD, \"to\"/TO, \"review\"/VB, \"his\"/PRP$, \"proposal\"/NN, \"after\"/IN, \"the\"/DT, \"EU\"/NNP, \"EU\"/ORG, \"'s\"/POS, \"standing\"/NN, \"veterinary\"/JJ, \"committee\"/NN, \",\"/,, \"mational\"/JJ, \"animal\"/NN, \"health\"/NN, \"officials\"/NNS, \",\"/,, \"questioned\"/VBD, \"if\"/IN, \"such\"/JJ, \"action\"/NN, \"was\"/VBD, \"justified\"/VBN, \"as\"/IN, \"there\"/RB, \"was\"/VBD, \"only\"/RB, \"a\"/DT, \"slight\"/JJ, \"risk\"/NN, \"to\"/TO, \"human\"/JJ, \"health\"/NN, \".\"/.]\n",
      "\n"
     ]
    }
   ],
   "source": [
    "a = 0\n",
    "for sentence in dataset.train:\n",
    "    print(sentence)\n",
    "    print()\n",
    "    a += 1\n",
    "    if a > 10:\n",
    "        break"
   ]
  },
  {
   "cell_type": "code",
   "execution_count": 8,
   "id": "7f17dcc1-aa0d-4554-b7b7-dd78271eec62",
   "metadata": {},
   "outputs": [
    {
     "data": {
      "text/plain": [
       "{'text': 'EU rejects German call to boycott British lamb .',\n",
       " 'labels': [],\n",
       " 'entities': [{'text': 'EU',\n",
       "   'start_pos': 0,\n",
       "   'end_pos': 2,\n",
       "   'labels': [{'value': 'ORG', 'confidence': 1.0}]},\n",
       "  {'text': 'German',\n",
       "   'start_pos': 11,\n",
       "   'end_pos': 17,\n",
       "   'labels': [{'value': 'MISC', 'confidence': 1.0}]},\n",
       "  {'text': 'British',\n",
       "   'start_pos': 34,\n",
       "   'end_pos': 41,\n",
       "   'labels': [{'value': 'MISC', 'confidence': 1.0}]}],\n",
       " 'relations': [],\n",
       " 'tokens': [{'text': 'EU', 'start_pos': 0, 'end_pos': 2, 'labels': []},\n",
       "  {'text': 'rejects', 'start_pos': 3, 'end_pos': 10, 'labels': []},\n",
       "  {'text': 'German', 'start_pos': 11, 'end_pos': 17, 'labels': []},\n",
       "  {'text': 'call', 'start_pos': 18, 'end_pos': 22, 'labels': []},\n",
       "  {'text': 'to', 'start_pos': 23, 'end_pos': 25, 'labels': []},\n",
       "  {'text': 'boycott', 'start_pos': 26, 'end_pos': 33, 'labels': []},\n",
       "  {'text': 'British', 'start_pos': 34, 'end_pos': 41, 'labels': []},\n",
       "  {'text': 'lamb', 'start_pos': 42, 'end_pos': 46, 'labels': []},\n",
       "  {'text': '.', 'start_pos': 47, 'end_pos': 48, 'labels': []}]}"
      ]
     },
     "execution_count": 8,
     "metadata": {},
     "output_type": "execute_result"
    }
   ],
   "source": [
    "sentence.to_dict(tag_type=\"ner\")"
   ]
  },
  {
   "cell_type": "code",
   "execution_count": null,
   "id": "b33d17c4-5ebd-4754-aa60-bf6e27a55d0f",
   "metadata": {},
   "outputs": [],
   "source": []
  }
 ],
 "metadata": {
  "kernelspec": {
   "display_name": "Python 3 (ipykernel)",
   "language": "python",
   "name": "python3"
  },
  "language_info": {
   "codemirror_mode": {
    "name": "ipython",
    "version": 3
   },
   "file_extension": ".py",
   "mimetype": "text/x-python",
   "name": "python",
   "nbconvert_exporter": "python",
   "pygments_lexer": "ipython3",
   "version": "3.12.4"
  }
 },
 "nbformat": 4,
 "nbformat_minor": 5
}
