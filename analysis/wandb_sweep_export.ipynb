{
 "cells": [
  {
   "cell_type": "code",
   "execution_count": 52,
   "id": "d6bcd0b6-3140-463d-bb6b-52d6f3821f6a",
   "metadata": {},
   "outputs": [],
   "source": [
    "import os\n",
    "import pandas as pd\n",
    "import numpy as np\n",
    "import matplotlib.pyplot as plt\n",
    "import seaborn as sns\n",
    "from pathlib import Path\n",
    "import wandb\n",
    "import json"
   ]
  },
  {
   "cell_type": "code",
   "execution_count": 66,
   "id": "923fc584-f0f7-413c-8920-c3168462170c",
   "metadata": {},
   "outputs": [
    {
     "data": {
      "text/plain": [
       "'wandb_export_classification_report_aa0awl7a_o_token_conll.csv'"
      ]
     },
     "execution_count": 66,
     "metadata": {},
     "output_type": "execute_result"
    }
   ],
   "source": [
    "api = wandb.Api()\n",
    "CLASSIFICATION_REPORT = \"classification_report\"\n",
    "sweep = api.sweep(\"cezary/fsner/aa0awl7a\")\n",
    "sweep_len = len(sweep.runs)\n",
    "tag = \"o_token_conll\"\n",
    "EXPORT_PATH = Path(\"data\", f\"wandb_export_classification_report_{sweep.name}_{tag}.csv\")\n",
    "EXPORT_PATH.name"
   ]
  },
  {
   "cell_type": "code",
   "execution_count": 67,
   "id": "7a65ba1a-6d91-4559-bb1d-4b23995b97f5",
   "metadata": {},
   "outputs": [
    {
     "name": "stdout",
     "output_type": "stream",
     "text": [
      "Fetching run 1 out of 60\n"
     ]
    },
    {
     "name": "stderr",
     "output_type": "stream",
     "text": [
      "\u001b[34m\u001b[1mwandb\u001b[0m:   1 of 1 files downloaded.  \n"
     ]
    },
    {
     "name": "stdout",
     "output_type": "stream",
     "text": [
      "Fetching run 2 out of 60\n"
     ]
    },
    {
     "name": "stderr",
     "output_type": "stream",
     "text": [
      "\u001b[34m\u001b[1mwandb\u001b[0m:   1 of 1 files downloaded.  \n"
     ]
    },
    {
     "name": "stdout",
     "output_type": "stream",
     "text": [
      "Fetching run 3 out of 60\n"
     ]
    },
    {
     "name": "stderr",
     "output_type": "stream",
     "text": [
      "\u001b[34m\u001b[1mwandb\u001b[0m:   1 of 1 files downloaded.  \n"
     ]
    },
    {
     "name": "stdout",
     "output_type": "stream",
     "text": [
      "Fetching run 4 out of 60\n"
     ]
    },
    {
     "name": "stderr",
     "output_type": "stream",
     "text": [
      "\u001b[34m\u001b[1mwandb\u001b[0m:   1 of 1 files downloaded.  \n"
     ]
    },
    {
     "name": "stdout",
     "output_type": "stream",
     "text": [
      "Fetching run 5 out of 60\n"
     ]
    },
    {
     "name": "stderr",
     "output_type": "stream",
     "text": [
      "\u001b[34m\u001b[1mwandb\u001b[0m:   1 of 1 files downloaded.  \n"
     ]
    },
    {
     "name": "stdout",
     "output_type": "stream",
     "text": [
      "Fetching run 6 out of 60\n"
     ]
    },
    {
     "name": "stderr",
     "output_type": "stream",
     "text": [
      "\u001b[34m\u001b[1mwandb\u001b[0m:   1 of 1 files downloaded.  \n"
     ]
    },
    {
     "name": "stdout",
     "output_type": "stream",
     "text": [
      "Fetching run 7 out of 60\n"
     ]
    },
    {
     "name": "stderr",
     "output_type": "stream",
     "text": [
      "\u001b[34m\u001b[1mwandb\u001b[0m:   1 of 1 files downloaded.  \n"
     ]
    },
    {
     "name": "stdout",
     "output_type": "stream",
     "text": [
      "Fetching run 8 out of 60\n"
     ]
    },
    {
     "name": "stderr",
     "output_type": "stream",
     "text": [
      "\u001b[34m\u001b[1mwandb\u001b[0m:   1 of 1 files downloaded.  \n"
     ]
    },
    {
     "name": "stdout",
     "output_type": "stream",
     "text": [
      "Fetching run 9 out of 60\n"
     ]
    },
    {
     "name": "stderr",
     "output_type": "stream",
     "text": [
      "\u001b[34m\u001b[1mwandb\u001b[0m:   1 of 1 files downloaded.  \n"
     ]
    },
    {
     "name": "stdout",
     "output_type": "stream",
     "text": [
      "Fetching run 10 out of 60\n"
     ]
    },
    {
     "name": "stderr",
     "output_type": "stream",
     "text": [
      "\u001b[34m\u001b[1mwandb\u001b[0m:   1 of 1 files downloaded.  \n"
     ]
    },
    {
     "name": "stdout",
     "output_type": "stream",
     "text": [
      "Fetching run 11 out of 60\n"
     ]
    },
    {
     "name": "stderr",
     "output_type": "stream",
     "text": [
      "\u001b[34m\u001b[1mwandb\u001b[0m:   1 of 1 files downloaded.  \n"
     ]
    },
    {
     "name": "stdout",
     "output_type": "stream",
     "text": [
      "Fetching run 12 out of 60\n"
     ]
    },
    {
     "name": "stderr",
     "output_type": "stream",
     "text": [
      "\u001b[34m\u001b[1mwandb\u001b[0m:   1 of 1 files downloaded.  \n"
     ]
    },
    {
     "name": "stdout",
     "output_type": "stream",
     "text": [
      "Fetching run 13 out of 60\n"
     ]
    },
    {
     "name": "stderr",
     "output_type": "stream",
     "text": [
      "\u001b[34m\u001b[1mwandb\u001b[0m:   1 of 1 files downloaded.  \n"
     ]
    },
    {
     "name": "stdout",
     "output_type": "stream",
     "text": [
      "Fetching run 14 out of 60\n"
     ]
    },
    {
     "name": "stderr",
     "output_type": "stream",
     "text": [
      "\u001b[34m\u001b[1mwandb\u001b[0m:   1 of 1 files downloaded.  \n"
     ]
    },
    {
     "name": "stdout",
     "output_type": "stream",
     "text": [
      "Fetching run 15 out of 60\n"
     ]
    },
    {
     "name": "stderr",
     "output_type": "stream",
     "text": [
      "\u001b[34m\u001b[1mwandb\u001b[0m:   1 of 1 files downloaded.  \n"
     ]
    },
    {
     "name": "stdout",
     "output_type": "stream",
     "text": [
      "Fetching run 16 out of 60\n"
     ]
    },
    {
     "name": "stderr",
     "output_type": "stream",
     "text": [
      "\u001b[34m\u001b[1mwandb\u001b[0m:   1 of 1 files downloaded.  \n"
     ]
    },
    {
     "name": "stdout",
     "output_type": "stream",
     "text": [
      "Fetching run 17 out of 60\n"
     ]
    },
    {
     "name": "stderr",
     "output_type": "stream",
     "text": [
      "\u001b[34m\u001b[1mwandb\u001b[0m:   1 of 1 files downloaded.  \n"
     ]
    },
    {
     "name": "stdout",
     "output_type": "stream",
     "text": [
      "Fetching run 18 out of 60\n"
     ]
    },
    {
     "name": "stderr",
     "output_type": "stream",
     "text": [
      "\u001b[34m\u001b[1mwandb\u001b[0m:   1 of 1 files downloaded.  \n"
     ]
    },
    {
     "name": "stdout",
     "output_type": "stream",
     "text": [
      "Fetching run 19 out of 60\n"
     ]
    },
    {
     "name": "stderr",
     "output_type": "stream",
     "text": [
      "\u001b[34m\u001b[1mwandb\u001b[0m:   1 of 1 files downloaded.  \n"
     ]
    },
    {
     "name": "stdout",
     "output_type": "stream",
     "text": [
      "Fetching run 20 out of 60\n"
     ]
    },
    {
     "name": "stderr",
     "output_type": "stream",
     "text": [
      "\u001b[34m\u001b[1mwandb\u001b[0m:   1 of 1 files downloaded.  \n"
     ]
    },
    {
     "name": "stdout",
     "output_type": "stream",
     "text": [
      "Fetching run 21 out of 60\n"
     ]
    },
    {
     "name": "stderr",
     "output_type": "stream",
     "text": [
      "\u001b[34m\u001b[1mwandb\u001b[0m:   1 of 1 files downloaded.  \n"
     ]
    },
    {
     "name": "stdout",
     "output_type": "stream",
     "text": [
      "Fetching run 22 out of 60\n"
     ]
    },
    {
     "name": "stderr",
     "output_type": "stream",
     "text": [
      "\u001b[34m\u001b[1mwandb\u001b[0m:   1 of 1 files downloaded.  \n"
     ]
    },
    {
     "name": "stdout",
     "output_type": "stream",
     "text": [
      "Fetching run 23 out of 60\n"
     ]
    },
    {
     "name": "stderr",
     "output_type": "stream",
     "text": [
      "\u001b[34m\u001b[1mwandb\u001b[0m:   1 of 1 files downloaded.  \n"
     ]
    },
    {
     "name": "stdout",
     "output_type": "stream",
     "text": [
      "Fetching run 24 out of 60\n"
     ]
    },
    {
     "name": "stderr",
     "output_type": "stream",
     "text": [
      "\u001b[34m\u001b[1mwandb\u001b[0m:   1 of 1 files downloaded.  \n"
     ]
    },
    {
     "name": "stdout",
     "output_type": "stream",
     "text": [
      "Fetching run 25 out of 60\n"
     ]
    },
    {
     "name": "stderr",
     "output_type": "stream",
     "text": [
      "\u001b[34m\u001b[1mwandb\u001b[0m:   1 of 1 files downloaded.  \n"
     ]
    },
    {
     "name": "stdout",
     "output_type": "stream",
     "text": [
      "Fetching run 26 out of 60\n"
     ]
    },
    {
     "name": "stderr",
     "output_type": "stream",
     "text": [
      "\u001b[34m\u001b[1mwandb\u001b[0m:   1 of 1 files downloaded.  \n"
     ]
    },
    {
     "name": "stdout",
     "output_type": "stream",
     "text": [
      "Fetching run 27 out of 60\n"
     ]
    },
    {
     "name": "stderr",
     "output_type": "stream",
     "text": [
      "\u001b[34m\u001b[1mwandb\u001b[0m:   1 of 1 files downloaded.  \n"
     ]
    },
    {
     "name": "stdout",
     "output_type": "stream",
     "text": [
      "Fetching run 28 out of 60\n"
     ]
    },
    {
     "name": "stderr",
     "output_type": "stream",
     "text": [
      "\u001b[34m\u001b[1mwandb\u001b[0m:   1 of 1 files downloaded.  \n"
     ]
    },
    {
     "name": "stdout",
     "output_type": "stream",
     "text": [
      "Fetching run 29 out of 60\n"
     ]
    },
    {
     "name": "stderr",
     "output_type": "stream",
     "text": [
      "\u001b[34m\u001b[1mwandb\u001b[0m:   1 of 1 files downloaded.  \n"
     ]
    },
    {
     "name": "stdout",
     "output_type": "stream",
     "text": [
      "Fetching run 30 out of 60\n"
     ]
    },
    {
     "name": "stderr",
     "output_type": "stream",
     "text": [
      "\u001b[34m\u001b[1mwandb\u001b[0m:   1 of 1 files downloaded.  \n"
     ]
    },
    {
     "name": "stdout",
     "output_type": "stream",
     "text": [
      "Fetching run 31 out of 60\n"
     ]
    },
    {
     "name": "stderr",
     "output_type": "stream",
     "text": [
      "\u001b[34m\u001b[1mwandb\u001b[0m:   1 of 1 files downloaded.  \n"
     ]
    },
    {
     "name": "stdout",
     "output_type": "stream",
     "text": [
      "Fetching run 32 out of 60\n"
     ]
    },
    {
     "name": "stderr",
     "output_type": "stream",
     "text": [
      "\u001b[34m\u001b[1mwandb\u001b[0m:   1 of 1 files downloaded.  \n"
     ]
    },
    {
     "name": "stdout",
     "output_type": "stream",
     "text": [
      "Fetching run 33 out of 60\n"
     ]
    },
    {
     "name": "stderr",
     "output_type": "stream",
     "text": [
      "\u001b[34m\u001b[1mwandb\u001b[0m:   1 of 1 files downloaded.  \n"
     ]
    },
    {
     "name": "stdout",
     "output_type": "stream",
     "text": [
      "Fetching run 34 out of 60\n"
     ]
    },
    {
     "name": "stderr",
     "output_type": "stream",
     "text": [
      "\u001b[34m\u001b[1mwandb\u001b[0m:   1 of 1 files downloaded.  \n"
     ]
    },
    {
     "name": "stdout",
     "output_type": "stream",
     "text": [
      "Fetching run 35 out of 60\n"
     ]
    },
    {
     "name": "stderr",
     "output_type": "stream",
     "text": [
      "\u001b[34m\u001b[1mwandb\u001b[0m:   1 of 1 files downloaded.  \n"
     ]
    },
    {
     "name": "stdout",
     "output_type": "stream",
     "text": [
      "Fetching run 36 out of 60\n"
     ]
    },
    {
     "name": "stderr",
     "output_type": "stream",
     "text": [
      "\u001b[34m\u001b[1mwandb\u001b[0m:   1 of 1 files downloaded.  \n"
     ]
    },
    {
     "name": "stdout",
     "output_type": "stream",
     "text": [
      "Fetching run 37 out of 60\n"
     ]
    },
    {
     "name": "stderr",
     "output_type": "stream",
     "text": [
      "\u001b[34m\u001b[1mwandb\u001b[0m:   1 of 1 files downloaded.  \n"
     ]
    },
    {
     "name": "stdout",
     "output_type": "stream",
     "text": [
      "Fetching run 38 out of 60\n"
     ]
    },
    {
     "name": "stderr",
     "output_type": "stream",
     "text": [
      "\u001b[34m\u001b[1mwandb\u001b[0m:   1 of 1 files downloaded.  \n"
     ]
    },
    {
     "name": "stdout",
     "output_type": "stream",
     "text": [
      "Fetching run 39 out of 60\n"
     ]
    },
    {
     "name": "stderr",
     "output_type": "stream",
     "text": [
      "\u001b[34m\u001b[1mwandb\u001b[0m:   1 of 1 files downloaded.  \n"
     ]
    },
    {
     "name": "stdout",
     "output_type": "stream",
     "text": [
      "Fetching run 40 out of 60\n"
     ]
    },
    {
     "name": "stderr",
     "output_type": "stream",
     "text": [
      "\u001b[34m\u001b[1mwandb\u001b[0m:   1 of 1 files downloaded.  \n"
     ]
    },
    {
     "name": "stdout",
     "output_type": "stream",
     "text": [
      "Fetching run 41 out of 60\n"
     ]
    },
    {
     "name": "stderr",
     "output_type": "stream",
     "text": [
      "\u001b[34m\u001b[1mwandb\u001b[0m:   1 of 1 files downloaded.  \n"
     ]
    },
    {
     "name": "stdout",
     "output_type": "stream",
     "text": [
      "Fetching run 42 out of 60\n"
     ]
    },
    {
     "name": "stderr",
     "output_type": "stream",
     "text": [
      "\u001b[34m\u001b[1mwandb\u001b[0m:   1 of 1 files downloaded.  \n"
     ]
    },
    {
     "name": "stdout",
     "output_type": "stream",
     "text": [
      "Fetching run 43 out of 60\n"
     ]
    },
    {
     "name": "stderr",
     "output_type": "stream",
     "text": [
      "\u001b[34m\u001b[1mwandb\u001b[0m:   1 of 1 files downloaded.  \n"
     ]
    },
    {
     "name": "stdout",
     "output_type": "stream",
     "text": [
      "Fetching run 44 out of 60\n"
     ]
    },
    {
     "name": "stderr",
     "output_type": "stream",
     "text": [
      "\u001b[34m\u001b[1mwandb\u001b[0m:   1 of 1 files downloaded.  \n"
     ]
    },
    {
     "name": "stdout",
     "output_type": "stream",
     "text": [
      "Fetching run 45 out of 60\n"
     ]
    },
    {
     "name": "stderr",
     "output_type": "stream",
     "text": [
      "\u001b[34m\u001b[1mwandb\u001b[0m:   1 of 1 files downloaded.  \n"
     ]
    },
    {
     "name": "stdout",
     "output_type": "stream",
     "text": [
      "Fetching run 46 out of 60\n"
     ]
    },
    {
     "name": "stderr",
     "output_type": "stream",
     "text": [
      "\u001b[34m\u001b[1mwandb\u001b[0m:   1 of 1 files downloaded.  \n"
     ]
    },
    {
     "name": "stdout",
     "output_type": "stream",
     "text": [
      "Fetching run 47 out of 60\n"
     ]
    },
    {
     "name": "stderr",
     "output_type": "stream",
     "text": [
      "\u001b[34m\u001b[1mwandb\u001b[0m:   1 of 1 files downloaded.  \n"
     ]
    },
    {
     "name": "stdout",
     "output_type": "stream",
     "text": [
      "Fetching run 48 out of 60\n"
     ]
    },
    {
     "name": "stderr",
     "output_type": "stream",
     "text": [
      "\u001b[34m\u001b[1mwandb\u001b[0m:   1 of 1 files downloaded.  \n"
     ]
    },
    {
     "name": "stdout",
     "output_type": "stream",
     "text": [
      "Fetching run 49 out of 60\n"
     ]
    },
    {
     "name": "stderr",
     "output_type": "stream",
     "text": [
      "\u001b[34m\u001b[1mwandb\u001b[0m:   1 of 1 files downloaded.  \n"
     ]
    },
    {
     "name": "stdout",
     "output_type": "stream",
     "text": [
      "Fetching run 50 out of 60\n"
     ]
    },
    {
     "name": "stderr",
     "output_type": "stream",
     "text": [
      "\u001b[34m\u001b[1mwandb\u001b[0m:   1 of 1 files downloaded.  \n"
     ]
    },
    {
     "name": "stdout",
     "output_type": "stream",
     "text": [
      "Fetching run 51 out of 60\n"
     ]
    },
    {
     "name": "stderr",
     "output_type": "stream",
     "text": [
      "\u001b[34m\u001b[1mwandb\u001b[0m:   1 of 1 files downloaded.  \n"
     ]
    },
    {
     "name": "stdout",
     "output_type": "stream",
     "text": [
      "Fetching run 52 out of 60\n"
     ]
    },
    {
     "name": "stderr",
     "output_type": "stream",
     "text": [
      "\u001b[34m\u001b[1mwandb\u001b[0m:   1 of 1 files downloaded.  \n"
     ]
    },
    {
     "name": "stdout",
     "output_type": "stream",
     "text": [
      "Fetching run 53 out of 60\n"
     ]
    },
    {
     "name": "stderr",
     "output_type": "stream",
     "text": [
      "\u001b[34m\u001b[1mwandb\u001b[0m:   1 of 1 files downloaded.  \n"
     ]
    },
    {
     "name": "stdout",
     "output_type": "stream",
     "text": [
      "Fetching run 54 out of 60\n",
      "Failed run found brisk-sweep-7\n",
      "Fetching run 55 out of 60\n"
     ]
    },
    {
     "name": "stderr",
     "output_type": "stream",
     "text": [
      "\u001b[34m\u001b[1mwandb\u001b[0m:   1 of 1 files downloaded.  \n"
     ]
    },
    {
     "name": "stdout",
     "output_type": "stream",
     "text": [
      "Fetching run 56 out of 60\n"
     ]
    },
    {
     "name": "stderr",
     "output_type": "stream",
     "text": [
      "\u001b[34m\u001b[1mwandb\u001b[0m:   1 of 1 files downloaded.  \n"
     ]
    },
    {
     "name": "stdout",
     "output_type": "stream",
     "text": [
      "Fetching run 57 out of 60\n"
     ]
    },
    {
     "name": "stderr",
     "output_type": "stream",
     "text": [
      "\u001b[34m\u001b[1mwandb\u001b[0m:   1 of 1 files downloaded.  \n"
     ]
    },
    {
     "name": "stdout",
     "output_type": "stream",
     "text": [
      "Fetching run 58 out of 60\n"
     ]
    },
    {
     "name": "stderr",
     "output_type": "stream",
     "text": [
      "\u001b[34m\u001b[1mwandb\u001b[0m:   1 of 1 files downloaded.  \n"
     ]
    },
    {
     "name": "stdout",
     "output_type": "stream",
     "text": [
      "Fetching run 59 out of 60\n"
     ]
    },
    {
     "name": "stderr",
     "output_type": "stream",
     "text": [
      "\u001b[34m\u001b[1mwandb\u001b[0m:   1 of 1 files downloaded.  \n"
     ]
    },
    {
     "name": "stdout",
     "output_type": "stream",
     "text": [
      "Fetching run 60 out of 60\n"
     ]
    },
    {
     "name": "stderr",
     "output_type": "stream",
     "text": [
      "\u001b[34m\u001b[1mwandb\u001b[0m:   1 of 1 files downloaded.  \n"
     ]
    }
   ],
   "source": [
    "df_list = []\n",
    "for run_index, run in enumerate(sweep.runs):\n",
    "    print(f\"Fetching run {run_index+1} out of {sweep_len}\")\n",
    "    index = 0\n",
    "    artifacts = run.logged_artifacts()\n",
    "    for i, artifact in enumerate(artifacts):\n",
    "        if \"classification_report\" in artifact.name:\n",
    "            index = i\n",
    "            break\n",
    "    else:\n",
    "        print(f\"Failed run found {run.name}\")\n",
    "        continue\n",
    "        \n",
    "    table = run.logged_artifacts()[index]\n",
    "    table_dir = table.download()\n",
    "    table_path = f\"{table_dir}/{CLASSIFICATION_REPORT}.table.json\"\n",
    "\n",
    "    with open(table_path) as file:\n",
    "        json_dict = json.load(file)\n",
    "\n",
    "    df = pd.DataFrame(json_dict[\"data\"], columns=json_dict[\"columns\"])\n",
    "    df[\"run_name\"] = run.name\n",
    "    df[\"run_corpus\"] = run.config[\"dataset\"]\n",
    "    df[\"run_type\"] = run.config[\"run_type\"]\n",
    "    df[\"k_shot_num\"] = run.config[\"k_shot_num\"]\n",
    "    df[\"loss_function\"] = run.config[\"loss_function\"]\n",
    "    df[\"neg_o_prob\"] = run.config[\"neg_o_prob\"]\n",
    "    df_list.append(df)"
   ]
  },
  {
   "cell_type": "code",
   "execution_count": 68,
   "id": "8942a166-cb1b-414b-9670-833820c81bb2",
   "metadata": {},
   "outputs": [
    {
     "data": {
      "text/html": [
       "<div>\n",
       "<style scoped>\n",
       "    .dataframe tbody tr th:only-of-type {\n",
       "        vertical-align: middle;\n",
       "    }\n",
       "\n",
       "    .dataframe tbody tr th {\n",
       "        vertical-align: top;\n",
       "    }\n",
       "\n",
       "    .dataframe thead th {\n",
       "        text-align: right;\n",
       "    }\n",
       "</style>\n",
       "<table border=\"1\" class=\"dataframe\">\n",
       "  <thead>\n",
       "    <tr style=\"text-align: right;\">\n",
       "      <th></th>\n",
       "      <th>metric</th>\n",
       "      <th>PER</th>\n",
       "      <th>LOC</th>\n",
       "      <th>ORG</th>\n",
       "      <th>MISC</th>\n",
       "      <th>micro avg</th>\n",
       "      <th>macro avg</th>\n",
       "      <th>weighted avg</th>\n",
       "      <th>run_name</th>\n",
       "      <th>run_corpus</th>\n",
       "      <th>run_type</th>\n",
       "      <th>k_shot_num</th>\n",
       "      <th>loss_function</th>\n",
       "      <th>neg_o_prob</th>\n",
       "    </tr>\n",
       "  </thead>\n",
       "  <tbody>\n",
       "    <tr>\n",
       "      <th>0</th>\n",
       "      <td>precision</td>\n",
       "      <td>0.305102</td>\n",
       "      <td>0.579534</td>\n",
       "      <td>0.394737</td>\n",
       "      <td>0.281350</td>\n",
       "      <td>0.390319</td>\n",
       "      <td>0.390181</td>\n",
       "      <td>0.409557</td>\n",
       "      <td>magic-sweep-60</td>\n",
       "      <td>CONLL03</td>\n",
       "      <td>contrastive</td>\n",
       "      <td>8</td>\n",
       "      <td>tml</td>\n",
       "      <td>1.0</td>\n",
       "    </tr>\n",
       "    <tr>\n",
       "      <th>1</th>\n",
       "      <td>recall</td>\n",
       "      <td>0.543599</td>\n",
       "      <td>0.685851</td>\n",
       "      <td>0.406382</td>\n",
       "      <td>0.498575</td>\n",
       "      <td>0.539660</td>\n",
       "      <td>0.533602</td>\n",
       "      <td>0.539660</td>\n",
       "      <td>magic-sweep-60</td>\n",
       "      <td>CONLL03</td>\n",
       "      <td>contrastive</td>\n",
       "      <td>8</td>\n",
       "      <td>tml</td>\n",
       "      <td>1.0</td>\n",
       "    </tr>\n",
       "    <tr>\n",
       "      <th>2</th>\n",
       "      <td>f1-score</td>\n",
       "      <td>0.390840</td>\n",
       "      <td>0.628226</td>\n",
       "      <td>0.400475</td>\n",
       "      <td>0.359712</td>\n",
       "      <td>0.452998</td>\n",
       "      <td>0.444813</td>\n",
       "      <td>0.459911</td>\n",
       "      <td>magic-sweep-60</td>\n",
       "      <td>CONLL03</td>\n",
       "      <td>contrastive</td>\n",
       "      <td>8</td>\n",
       "      <td>tml</td>\n",
       "      <td>1.0</td>\n",
       "    </tr>\n",
       "    <tr>\n",
       "      <th>3</th>\n",
       "      <td>support</td>\n",
       "      <td>1617.000000</td>\n",
       "      <td>1668.000000</td>\n",
       "      <td>1661.000000</td>\n",
       "      <td>702.000000</td>\n",
       "      <td>5648.000000</td>\n",
       "      <td>5648.000000</td>\n",
       "      <td>5648.000000</td>\n",
       "      <td>magic-sweep-60</td>\n",
       "      <td>CONLL03</td>\n",
       "      <td>contrastive</td>\n",
       "      <td>8</td>\n",
       "      <td>tml</td>\n",
       "      <td>1.0</td>\n",
       "    </tr>\n",
       "    <tr>\n",
       "      <th>0</th>\n",
       "      <td>precision</td>\n",
       "      <td>0.884813</td>\n",
       "      <td>0.652879</td>\n",
       "      <td>0.348967</td>\n",
       "      <td>0.345840</td>\n",
       "      <td>0.548092</td>\n",
       "      <td>0.558125</td>\n",
       "      <td>0.591742</td>\n",
       "      <td>dainty-sweep-59</td>\n",
       "      <td>CONLL03</td>\n",
       "      <td>contrastive</td>\n",
       "      <td>8</td>\n",
       "      <td>tml</td>\n",
       "      <td>0.8</td>\n",
       "    </tr>\n",
       "    <tr>\n",
       "      <th>...</th>\n",
       "      <td>...</td>\n",
       "      <td>...</td>\n",
       "      <td>...</td>\n",
       "      <td>...</td>\n",
       "      <td>...</td>\n",
       "      <td>...</td>\n",
       "      <td>...</td>\n",
       "      <td>...</td>\n",
       "      <td>...</td>\n",
       "      <td>...</td>\n",
       "      <td>...</td>\n",
       "      <td>...</td>\n",
       "      <td>...</td>\n",
       "      <td>...</td>\n",
       "    </tr>\n",
       "    <tr>\n",
       "      <th>3</th>\n",
       "      <td>support</td>\n",
       "      <td>1617.000000</td>\n",
       "      <td>1668.000000</td>\n",
       "      <td>1661.000000</td>\n",
       "      <td>702.000000</td>\n",
       "      <td>5648.000000</td>\n",
       "      <td>5648.000000</td>\n",
       "      <td>5648.000000</td>\n",
       "      <td>wise-sweep-2</td>\n",
       "      <td>CONLL03</td>\n",
       "      <td>contrastive</td>\n",
       "      <td>8</td>\n",
       "      <td>tml</td>\n",
       "      <td>0.2</td>\n",
       "    </tr>\n",
       "    <tr>\n",
       "      <th>0</th>\n",
       "      <td>precision</td>\n",
       "      <td>0.770146</td>\n",
       "      <td>0.704602</td>\n",
       "      <td>0.337734</td>\n",
       "      <td>0.360376</td>\n",
       "      <td>0.540711</td>\n",
       "      <td>0.543215</td>\n",
       "      <td>0.572692</td>\n",
       "      <td>sweet-sweep-1</td>\n",
       "      <td>CONLL03</td>\n",
       "      <td>contrastive</td>\n",
       "      <td>8</td>\n",
       "      <td>tml</td>\n",
       "      <td>0.0</td>\n",
       "    </tr>\n",
       "    <tr>\n",
       "      <th>1</th>\n",
       "      <td>recall</td>\n",
       "      <td>0.880643</td>\n",
       "      <td>0.679257</td>\n",
       "      <td>0.477423</td>\n",
       "      <td>0.601140</td>\n",
       "      <td>0.667847</td>\n",
       "      <td>0.659616</td>\n",
       "      <td>0.667847</td>\n",
       "      <td>sweet-sweep-1</td>\n",
       "      <td>CONLL03</td>\n",
       "      <td>contrastive</td>\n",
       "      <td>8</td>\n",
       "      <td>tml</td>\n",
       "      <td>0.0</td>\n",
       "    </tr>\n",
       "    <tr>\n",
       "      <th>2</th>\n",
       "      <td>f1-score</td>\n",
       "      <td>0.821696</td>\n",
       "      <td>0.691697</td>\n",
       "      <td>0.395610</td>\n",
       "      <td>0.450614</td>\n",
       "      <td>0.597592</td>\n",
       "      <td>0.589904</td>\n",
       "      <td>0.611876</td>\n",
       "      <td>sweet-sweep-1</td>\n",
       "      <td>CONLL03</td>\n",
       "      <td>contrastive</td>\n",
       "      <td>8</td>\n",
       "      <td>tml</td>\n",
       "      <td>0.0</td>\n",
       "    </tr>\n",
       "    <tr>\n",
       "      <th>3</th>\n",
       "      <td>support</td>\n",
       "      <td>1617.000000</td>\n",
       "      <td>1668.000000</td>\n",
       "      <td>1661.000000</td>\n",
       "      <td>702.000000</td>\n",
       "      <td>5648.000000</td>\n",
       "      <td>5648.000000</td>\n",
       "      <td>5648.000000</td>\n",
       "      <td>sweet-sweep-1</td>\n",
       "      <td>CONLL03</td>\n",
       "      <td>contrastive</td>\n",
       "      <td>8</td>\n",
       "      <td>tml</td>\n",
       "      <td>0.0</td>\n",
       "    </tr>\n",
       "  </tbody>\n",
       "</table>\n",
       "<p>236 rows × 14 columns</p>\n",
       "</div>"
      ],
      "text/plain": [
       "       metric          PER          LOC          ORG        MISC    micro avg  \\\n",
       "0   precision     0.305102     0.579534     0.394737    0.281350     0.390319   \n",
       "1      recall     0.543599     0.685851     0.406382    0.498575     0.539660   \n",
       "2    f1-score     0.390840     0.628226     0.400475    0.359712     0.452998   \n",
       "3     support  1617.000000  1668.000000  1661.000000  702.000000  5648.000000   \n",
       "0   precision     0.884813     0.652879     0.348967    0.345840     0.548092   \n",
       "..        ...          ...          ...          ...         ...          ...   \n",
       "3     support  1617.000000  1668.000000  1661.000000  702.000000  5648.000000   \n",
       "0   precision     0.770146     0.704602     0.337734    0.360376     0.540711   \n",
       "1      recall     0.880643     0.679257     0.477423    0.601140     0.667847   \n",
       "2    f1-score     0.821696     0.691697     0.395610    0.450614     0.597592   \n",
       "3     support  1617.000000  1668.000000  1661.000000  702.000000  5648.000000   \n",
       "\n",
       "      macro avg  weighted avg         run_name run_corpus     run_type  \\\n",
       "0      0.390181      0.409557   magic-sweep-60    CONLL03  contrastive   \n",
       "1      0.533602      0.539660   magic-sweep-60    CONLL03  contrastive   \n",
       "2      0.444813      0.459911   magic-sweep-60    CONLL03  contrastive   \n",
       "3   5648.000000   5648.000000   magic-sweep-60    CONLL03  contrastive   \n",
       "0      0.558125      0.591742  dainty-sweep-59    CONLL03  contrastive   \n",
       "..          ...           ...              ...        ...          ...   \n",
       "3   5648.000000   5648.000000     wise-sweep-2    CONLL03  contrastive   \n",
       "0      0.543215      0.572692    sweet-sweep-1    CONLL03  contrastive   \n",
       "1      0.659616      0.667847    sweet-sweep-1    CONLL03  contrastive   \n",
       "2      0.589904      0.611876    sweet-sweep-1    CONLL03  contrastive   \n",
       "3   5648.000000   5648.000000    sweet-sweep-1    CONLL03  contrastive   \n",
       "\n",
       "    k_shot_num loss_function  neg_o_prob  \n",
       "0            8           tml         1.0  \n",
       "1            8           tml         1.0  \n",
       "2            8           tml         1.0  \n",
       "3            8           tml         1.0  \n",
       "0            8           tml         0.8  \n",
       "..         ...           ...         ...  \n",
       "3            8           tml         0.2  \n",
       "0            8           tml         0.0  \n",
       "1            8           tml         0.0  \n",
       "2            8           tml         0.0  \n",
       "3            8           tml         0.0  \n",
       "\n",
       "[236 rows x 14 columns]"
      ]
     },
     "execution_count": 68,
     "metadata": {},
     "output_type": "execute_result"
    }
   ],
   "source": [
    "df_all = pd.concat(df_list)\n",
    "df_all.to_csv(EXPORT_PATH)\n",
    "df_all"
   ]
  },
  {
   "cell_type": "markdown",
   "id": "42826851-00b6-4318-8863-b8b4fc4d1cae",
   "metadata": {},
   "source": [
    "# SINGLE RUN"
   ]
  },
  {
   "cell_type": "code",
   "execution_count": 56,
   "id": "0e626855-45c9-4b53-b263-d5ecc466678d",
   "metadata": {},
   "outputs": [
    {
     "name": "stdout",
     "output_type": "stream",
     "text": [
      "Fetching run major-sweep-16\n"
     ]
    },
    {
     "name": "stderr",
     "output_type": "stream",
     "text": [
      "\u001b[34m\u001b[1mwandb\u001b[0m:   1 of 1 files downloaded.  \n"
     ]
    },
    {
     "data": {
      "text/html": [
       "<div>\n",
       "<style scoped>\n",
       "    .dataframe tbody tr th:only-of-type {\n",
       "        vertical-align: middle;\n",
       "    }\n",
       "\n",
       "    .dataframe tbody tr th {\n",
       "        vertical-align: top;\n",
       "    }\n",
       "\n",
       "    .dataframe thead th {\n",
       "        text-align: right;\n",
       "    }\n",
       "</style>\n",
       "<table border=\"1\" class=\"dataframe\">\n",
       "  <thead>\n",
       "    <tr style=\"text-align: right;\">\n",
       "      <th></th>\n",
       "      <th>metric</th>\n",
       "      <th>PER</th>\n",
       "      <th>LOC</th>\n",
       "      <th>ORG</th>\n",
       "      <th>MISC</th>\n",
       "      <th>micro avg</th>\n",
       "      <th>macro avg</th>\n",
       "      <th>weighted avg</th>\n",
       "      <th>run_name</th>\n",
       "      <th>run_corpus</th>\n",
       "      <th>run_type</th>\n",
       "      <th>k_shot_num</th>\n",
       "      <th>loss_function</th>\n",
       "    </tr>\n",
       "  </thead>\n",
       "  <tbody>\n",
       "    <tr>\n",
       "      <th>0</th>\n",
       "      <td>precision</td>\n",
       "      <td>0.624797</td>\n",
       "      <td>0.726454</td>\n",
       "      <td>0.679818</td>\n",
       "      <td>0.588561</td>\n",
       "      <td>0.657765</td>\n",
       "      <td>0.654907</td>\n",
       "      <td>0.666496</td>\n",
       "      <td>major-sweep-16</td>\n",
       "      <td>CONLL03</td>\n",
       "      <td>contrastive</td>\n",
       "      <td>8</td>\n",
       "      <td>cel</td>\n",
       "    </tr>\n",
       "    <tr>\n",
       "      <th>1</th>\n",
       "      <td>recall</td>\n",
       "      <td>0.713667</td>\n",
       "      <td>0.531775</td>\n",
       "      <td>0.269717</td>\n",
       "      <td>0.454416</td>\n",
       "      <td>0.497167</td>\n",
       "      <td>0.492394</td>\n",
       "      <td>0.497167</td>\n",
       "      <td>major-sweep-16</td>\n",
       "      <td>CONLL03</td>\n",
       "      <td>contrastive</td>\n",
       "      <td>8</td>\n",
       "      <td>cel</td>\n",
       "    </tr>\n",
       "    <tr>\n",
       "      <th>2</th>\n",
       "      <td>f1-score</td>\n",
       "      <td>0.666282</td>\n",
       "      <td>0.614053</td>\n",
       "      <td>0.386207</td>\n",
       "      <td>0.512862</td>\n",
       "      <td>0.566300</td>\n",
       "      <td>0.544851</td>\n",
       "      <td>0.549422</td>\n",
       "      <td>major-sweep-16</td>\n",
       "      <td>CONLL03</td>\n",
       "      <td>contrastive</td>\n",
       "      <td>8</td>\n",
       "      <td>cel</td>\n",
       "    </tr>\n",
       "    <tr>\n",
       "      <th>3</th>\n",
       "      <td>support</td>\n",
       "      <td>1617.000000</td>\n",
       "      <td>1668.000000</td>\n",
       "      <td>1661.000000</td>\n",
       "      <td>702.000000</td>\n",
       "      <td>5648.000000</td>\n",
       "      <td>5648.000000</td>\n",
       "      <td>5648.000000</td>\n",
       "      <td>major-sweep-16</td>\n",
       "      <td>CONLL03</td>\n",
       "      <td>contrastive</td>\n",
       "      <td>8</td>\n",
       "      <td>cel</td>\n",
       "    </tr>\n",
       "  </tbody>\n",
       "</table>\n",
       "</div>"
      ],
      "text/plain": [
       "      metric          PER          LOC          ORG        MISC    micro avg  \\\n",
       "0  precision     0.624797     0.726454     0.679818    0.588561     0.657765   \n",
       "1     recall     0.713667     0.531775     0.269717    0.454416     0.497167   \n",
       "2   f1-score     0.666282     0.614053     0.386207    0.512862     0.566300   \n",
       "3    support  1617.000000  1668.000000  1661.000000  702.000000  5648.000000   \n",
       "\n",
       "     macro avg  weighted avg        run_name run_corpus     run_type  \\\n",
       "0     0.654907      0.666496  major-sweep-16    CONLL03  contrastive   \n",
       "1     0.492394      0.497167  major-sweep-16    CONLL03  contrastive   \n",
       "2     0.544851      0.549422  major-sweep-16    CONLL03  contrastive   \n",
       "3  5648.000000   5648.000000  major-sweep-16    CONLL03  contrastive   \n",
       "\n",
       "   k_shot_num loss_function  \n",
       "0           8           cel  \n",
       "1           8           cel  \n",
       "2           8           cel  \n",
       "3           8           cel  "
      ]
     },
     "execution_count": 56,
     "metadata": {},
     "output_type": "execute_result"
    }
   ],
   "source": [
    "run = api.run(\"cezary/fsner/m9l763ki\")\n",
    "\n",
    "print(f\"Fetching run {run.name}\")\n",
    "index = 0\n",
    "artifacts = run.logged_artifacts()\n",
    "for i, artifact in enumerate(artifacts):\n",
    "    if \"classification_report\" in artifact.name:\n",
    "        index = i\n",
    "        break\n",
    "else:\n",
    "    print(f\"Failed run found {run.name}\")\n",
    "    \n",
    "table = run.logged_artifacts()[index]\n",
    "table_dir = table.download()\n",
    "table_path = f\"{table_dir}/{CLASSIFICATION_REPORT}.table.json\"\n",
    "\n",
    "with open(table_path) as file:\n",
    "    json_dict = json.load(file)\n",
    "\n",
    "df = pd.DataFrame(json_dict[\"data\"], columns=json_dict[\"columns\"])\n",
    "df[\"run_name\"] = run.name\n",
    "df[\"run_corpus\"] = run.config[\"dataset\"]\n",
    "df[\"run_type\"] = run.config[\"run_type\"]\n",
    "df[\"k_shot_num\"] = run.config[\"k_shot_num\"]\n",
    "df[\"loss_function\"] = run.config[\"loss_function\"]\n",
    "df"
   ]
  },
  {
   "cell_type": "code",
   "execution_count": 57,
   "id": "cdec7ade-8fec-49e7-8976-39ba895828da",
   "metadata": {},
   "outputs": [
    {
     "data": {
      "text/plain": [
       "'wandb_export_classification_report_major-sweep-16_cel_loss.csv'"
      ]
     },
     "execution_count": 57,
     "metadata": {},
     "output_type": "execute_result"
    }
   ],
   "source": [
    "EXPORT_PATH_SINGLE = Path(\"data\", f\"wandb_export_classification_report_{run.name}_cel_loss.csv\")\n",
    "df.to_csv(EXPORT_PATH_SINGLE)\n",
    "EXPORT_PATH_SINGLE.name"
   ]
  },
  {
   "cell_type": "code",
   "execution_count": null,
   "id": "1268bc1a-55c2-4048-9643-af1193a9972d",
   "metadata": {},
   "outputs": [],
   "source": []
  }
 ],
 "metadata": {
  "kernelspec": {
   "display_name": "Python 3 (ipykernel)",
   "language": "python",
   "name": "python3"
  },
  "language_info": {
   "codemirror_mode": {
    "name": "ipython",
    "version": 3
   },
   "file_extension": ".py",
   "mimetype": "text/x-python",
   "name": "python",
   "nbconvert_exporter": "python",
   "pygments_lexer": "ipython3",
   "version": "3.12.4"
  }
 },
 "nbformat": 4,
 "nbformat_minor": 5
}
