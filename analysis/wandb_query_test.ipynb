{
 "cells": [
  {
   "cell_type": "code",
   "execution_count": 1,
   "id": "6e9d07db-af50-4c3f-8340-db321a11d6ab",
   "metadata": {},
   "outputs": [],
   "source": [
    "import os\n",
    "import pandas as pd\n",
    "import numpy as np\n",
    "import matplotlib.pyplot as plt\n",
    "import seaborn as sns\n",
    "from pathlib import Path\n",
    "import wandb\n",
    "import json\n",
    "\n",
    "api = wandb.Api()"
   ]
  },
  {
   "cell_type": "code",
   "execution_count": 2,
   "id": "76d228fe-2b27-4792-92cf-90b2669c34d3",
   "metadata": {},
   "outputs": [],
   "source": [
    "sweep = api.sweep(\"cezary/fsner/uir8bnu0\")"
   ]
  },
  {
   "cell_type": "code",
   "execution_count": 3,
   "id": "7e3fde59-075c-4faf-b23c-b0cff3982c69",
   "metadata": {},
   "outputs": [
    {
     "data": {
      "text/plain": [
       "'generous-sweep-11'"
      ]
     },
     "execution_count": 3,
     "metadata": {},
     "output_type": "execute_result"
    }
   ],
   "source": [
    "run = sweep.runs[49]\n",
    "run.name"
   ]
  },
  {
   "cell_type": "code",
   "execution_count": 4,
   "id": "b2d7822c-5538-482a-bd7e-d38a1c55c5a5",
   "metadata": {},
   "outputs": [],
   "source": [
    "artifacts = run.logged_artifacts()\n",
    "for i, artifact in enumerate(artifacts):\n",
    "    if \"classification_report\" in artifact.name:\n",
    "        print(i, artifact.name)\n",
    "        break"
   ]
  },
  {
   "cell_type": "code",
   "execution_count": 5,
   "id": "488ed5ba-df04-4824-9856-2cfd1b03cd50",
   "metadata": {},
   "outputs": [
    {
     "ename": "NameError",
     "evalue": "name 'table' is not defined",
     "output_type": "error",
     "traceback": [
      "\u001b[0;31m---------------------------------------------------------------------------\u001b[0m",
      "\u001b[0;31mNameError\u001b[0m                                 Traceback (most recent call last)",
      "Cell \u001b[0;32mIn[5], line 1\u001b[0m\n\u001b[0;32m----> 1\u001b[0m table_dir \u001b[38;5;241m=\u001b[39m \u001b[43mtable\u001b[49m\u001b[38;5;241m.\u001b[39mdownload()\n",
      "\u001b[0;31mNameError\u001b[0m: name 'table' is not defined"
     ]
    }
   ],
   "source": [
    "table_dir = table.download()"
   ]
  },
  {
   "cell_type": "code",
   "execution_count": 6,
   "id": "8554ec70-ddbb-48a5-9de5-dc94ed105645",
   "metadata": {},
   "outputs": [
    {
     "ename": "NameError",
     "evalue": "name 'table' is not defined",
     "output_type": "error",
     "traceback": [
      "\u001b[0;31m---------------------------------------------------------------------------\u001b[0m",
      "\u001b[0;31mNameError\u001b[0m                                 Traceback (most recent call last)",
      "Cell \u001b[0;32mIn[6], line 1\u001b[0m\n\u001b[0;32m----> 1\u001b[0m \u001b[43mtable\u001b[49m\n",
      "\u001b[0;31mNameError\u001b[0m: name 'table' is not defined"
     ]
    }
   ],
   "source": [
    "table"
   ]
  },
  {
   "cell_type": "code",
   "execution_count": 7,
   "id": "fe40479a-1d24-4331-af69-f235c07af2ea",
   "metadata": {},
   "outputs": [
    {
     "ename": "NameError",
     "evalue": "name 'table_dir' is not defined",
     "output_type": "error",
     "traceback": [
      "\u001b[0;31m---------------------------------------------------------------------------\u001b[0m",
      "\u001b[0;31mNameError\u001b[0m                                 Traceback (most recent call last)",
      "Cell \u001b[0;32mIn[7], line 2\u001b[0m\n\u001b[1;32m      1\u001b[0m table_name \u001b[38;5;241m=\u001b[39m \u001b[38;5;124m\"\u001b[39m\u001b[38;5;124mclassification_report\u001b[39m\u001b[38;5;124m\"\u001b[39m\n\u001b[0;32m----> 2\u001b[0m table_path \u001b[38;5;241m=\u001b[39m \u001b[38;5;124mf\u001b[39m\u001b[38;5;124m\"\u001b[39m\u001b[38;5;132;01m{\u001b[39;00m\u001b[43mtable_dir\u001b[49m\u001b[38;5;132;01m}\u001b[39;00m\u001b[38;5;124m/\u001b[39m\u001b[38;5;132;01m{\u001b[39;00mtable_name\u001b[38;5;132;01m}\u001b[39;00m\u001b[38;5;124m.table.json\u001b[39m\u001b[38;5;124m\"\u001b[39m\n\u001b[1;32m      3\u001b[0m \u001b[38;5;66;03m# analysis/artifacts/run-g8amwb4j-classification_report:v0/classification_report.table.json\u001b[39;00m\n\u001b[1;32m      4\u001b[0m table_path\n",
      "\u001b[0;31mNameError\u001b[0m: name 'table_dir' is not defined"
     ]
    }
   ],
   "source": [
    "table_name = \"classification_report\"\n",
    "table_path = f\"{table_dir}/{table_name}.table.json\"\n",
    "# analysis/artifacts/run-g8amwb4j-classification_report:v0/classification_report.table.json\n",
    "table_path"
   ]
  },
  {
   "cell_type": "code",
   "execution_count": 54,
   "id": "75d67725-1e4f-4b9b-9de1-449793a69556",
   "metadata": {},
   "outputs": [],
   "source": [
    "with open(table_path) as file:\n",
    "    json_dict = json.load(file)\n",
    "df = pd.DataFrame(json_dict[\"data\"], columns=json_dict[\"columns\"])\n",
    "df[\"run_name\"] = run.name\n",
    "df[\"run_corpus\"] = run.config[\"dataset\"]"
   ]
  },
  {
   "cell_type": "code",
   "execution_count": 55,
   "id": "7e93ad7d-fb79-4d08-a0e9-e9a18b6b3a90",
   "metadata": {},
   "outputs": [
    {
     "data": {
      "text/html": [
       "<div>\n",
       "<style scoped>\n",
       "    .dataframe tbody tr th:only-of-type {\n",
       "        vertical-align: middle;\n",
       "    }\n",
       "\n",
       "    .dataframe tbody tr th {\n",
       "        vertical-align: top;\n",
       "    }\n",
       "\n",
       "    .dataframe thead th {\n",
       "        text-align: right;\n",
       "    }\n",
       "</style>\n",
       "<table border=\"1\" class=\"dataframe\">\n",
       "  <thead>\n",
       "    <tr style=\"text-align: right;\">\n",
       "      <th></th>\n",
       "      <th>metric</th>\n",
       "      <th>PER</th>\n",
       "      <th>LOC</th>\n",
       "      <th>ORG</th>\n",
       "      <th>MISC</th>\n",
       "      <th>micro avg</th>\n",
       "      <th>macro avg</th>\n",
       "      <th>weighted avg</th>\n",
       "      <th>run_name</th>\n",
       "      <th>run_corpus</th>\n",
       "    </tr>\n",
       "  </thead>\n",
       "  <tbody>\n",
       "    <tr>\n",
       "      <th>0</th>\n",
       "      <td>precision</td>\n",
       "      <td>0.741104</td>\n",
       "      <td>0.558290</td>\n",
       "      <td>0.511818</td>\n",
       "      <td>0.255370</td>\n",
       "      <td>0.514454</td>\n",
       "      <td>0.516646</td>\n",
       "      <td>0.559312</td>\n",
       "      <td>comic-sweep-40</td>\n",
       "      <td>CONLL03</td>\n",
       "    </tr>\n",
       "    <tr>\n",
       "      <th>1</th>\n",
       "      <td>recall</td>\n",
       "      <td>0.747062</td>\n",
       "      <td>0.516787</td>\n",
       "      <td>0.338952</td>\n",
       "      <td>0.609687</td>\n",
       "      <td>0.541962</td>\n",
       "      <td>0.553122</td>\n",
       "      <td>0.541962</td>\n",
       "      <td>comic-sweep-40</td>\n",
       "      <td>CONLL03</td>\n",
       "    </tr>\n",
       "    <tr>\n",
       "      <th>2</th>\n",
       "      <td>f1-score</td>\n",
       "      <td>0.744071</td>\n",
       "      <td>0.536737</td>\n",
       "      <td>0.407823</td>\n",
       "      <td>0.359966</td>\n",
       "      <td>0.527850</td>\n",
       "      <td>0.512150</td>\n",
       "      <td>0.536213</td>\n",
       "      <td>comic-sweep-40</td>\n",
       "      <td>CONLL03</td>\n",
       "    </tr>\n",
       "    <tr>\n",
       "      <th>3</th>\n",
       "      <td>support</td>\n",
       "      <td>1617.000000</td>\n",
       "      <td>1668.000000</td>\n",
       "      <td>1661.000000</td>\n",
       "      <td>702.000000</td>\n",
       "      <td>5648.000000</td>\n",
       "      <td>5648.000000</td>\n",
       "      <td>5648.000000</td>\n",
       "      <td>comic-sweep-40</td>\n",
       "      <td>CONLL03</td>\n",
       "    </tr>\n",
       "  </tbody>\n",
       "</table>\n",
       "</div>"
      ],
      "text/plain": [
       "      metric          PER          LOC          ORG        MISC    micro avg  \\\n",
       "0  precision     0.741104     0.558290     0.511818    0.255370     0.514454   \n",
       "1     recall     0.747062     0.516787     0.338952    0.609687     0.541962   \n",
       "2   f1-score     0.744071     0.536737     0.407823    0.359966     0.527850   \n",
       "3    support  1617.000000  1668.000000  1661.000000  702.000000  5648.000000   \n",
       "\n",
       "     macro avg  weighted avg        run_name run_corpus  \n",
       "0     0.516646      0.559312  comic-sweep-40    CONLL03  \n",
       "1     0.553122      0.541962  comic-sweep-40    CONLL03  \n",
       "2     0.512150      0.536213  comic-sweep-40    CONLL03  \n",
       "3  5648.000000   5648.000000  comic-sweep-40    CONLL03  "
      ]
     },
     "execution_count": 55,
     "metadata": {},
     "output_type": "execute_result"
    }
   ],
   "source": [
    "df"
   ]
  },
  {
   "cell_type": "code",
   "execution_count": 72,
   "id": "0db9f0af-8d4f-4ae8-9f34-bedeb062bef5",
   "metadata": {},
   "outputs": [
    {
     "data": {
      "text/plain": [
       "['metric',\n",
       " 'PER',\n",
       " 'LOC',\n",
       " 'ORG',\n",
       " 'MISC',\n",
       " 'micro avg',\n",
       " 'macro avg',\n",
       " 'weighted avg',\n",
       " 'run_name',\n",
       " 'run_corpus']"
      ]
     },
     "execution_count": 72,
     "metadata": {},
     "output_type": "execute_result"
    }
   ],
   "source": [
    "df_empty = df.drop(df.index, inplace=True)\n",
    "df.columns.to_list()"
   ]
  },
  {
   "cell_type": "code",
   "execution_count": null,
   "id": "42f3e066-11a2-4907-a78c-e02e81e648bd",
   "metadata": {},
   "outputs": [],
   "source": []
  }
 ],
 "metadata": {
  "kernelspec": {
   "display_name": "Python 3 (ipykernel)",
   "language": "python",
   "name": "python3"
  },
  "language_info": {
   "codemirror_mode": {
    "name": "ipython",
    "version": 3
   },
   "file_extension": ".py",
   "mimetype": "text/x-python",
   "name": "python",
   "nbconvert_exporter": "python",
   "pygments_lexer": "ipython3",
   "version": "3.12.4"
  }
 },
 "nbformat": 4,
 "nbformat_minor": 5
}
